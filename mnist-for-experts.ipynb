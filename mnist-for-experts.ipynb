{
 "cells": [
  {
   "cell_type": "markdown",
   "metadata": {},
   "source": [
    "MNIST for experts\n",
    "-----------------\n",
    "See https://www.tensorflow.org/versions/master/tutorials/mnist/pros/index.html\n",
    "\n",
    "The datasets are cached in the a local directory."
   ]
  },
  {
   "cell_type": "code",
   "execution_count": 1,
   "metadata": {
    "collapsed": false
   },
   "outputs": [
    {
     "name": "stdout",
     "output_type": "stream",
     "text": [
      "Extracting MNIST_data/train-images-idx3-ubyte.gz\n",
      "Extracting MNIST_data/train-labels-idx1-ubyte.gz\n",
      "Extracting MNIST_data/t10k-images-idx3-ubyte.gz\n",
      "Extracting MNIST_data/t10k-labels-idx1-ubyte.gz\n"
     ]
    }
   ],
   "source": [
    "import tensorflow as tf\n",
    "\n",
    "from tensorflow.examples.tutorials.mnist import input_data\n",
    "mnist = input_data.read_data_sets(\"MNIST_data/\", one_hot=True)"
   ]
  },
  {
   "cell_type": "code",
   "execution_count": 2,
   "metadata": {
    "collapsed": true
   },
   "outputs": [],
   "source": [
    "# placeholders allows to us to input data into the model\n",
    "# observations\n",
    "x = tf.placeholder(tf.float32, [None, 784])\n",
    "# labels\n",
    "y_ = tf.placeholder(tf.float32, [None, 10])\n",
    "\n",
    "# variables inside the model\n",
    "W = tf.Variable(tf.zeros([784, 10]))\n",
    "b = tf.Variable(tf.zeros([10]))\n",
    "\n",
    "# model\n",
    "y = tf.nn.softmax(tf.matmul(x, W) + b)\n",
    "# cross entropy (our loss)\n",
    "cross_entropy = -tf.reduce_sum(y_*tf.log(y))\n",
    "# training\n",
    "train_step = tf.train.GradientDescentOptimizer(0.01).minimize(cross_entropy)\n",
    "\n"
   ]
  },
  {
   "cell_type": "markdown",
   "metadata": {},
   "source": [
    "first like beginners"
   ]
  },
  {
   "cell_type": "code",
   "execution_count": 3,
   "metadata": {
    "collapsed": false
   },
   "outputs": [
    {
     "name": "stdout",
     "output_type": "stream",
     "text": [
      "0.9185\n"
     ]
    }
   ],
   "source": [
    "init = tf.initialize_all_variables()\n",
    "sess = tf.Session()\n",
    "with sess:\n",
    "    sess.run(init)\n",
    "    \n",
    "    for i in range(1000):\n",
    "        batch_xs, batch_ys = mnist.train.next_batch(100)\n",
    "        sess.run(train_step, feed_dict={x: batch_xs, y_: batch_ys})\n",
    "\n",
    "    # see argmax.\n",
    "    correct_prediction = tf.equal(tf.argmax(y,1), tf.argmax(y_,1))\n",
    "    accuracy = tf.reduce_mean(tf.cast(correct_prediction, tf.float32))\n",
    "    print(sess.run(accuracy, feed_dict={x: mnist.test.images, y_: mnist.test.labels}))\n"
   ]
  },
  {
   "cell_type": "markdown",
   "metadata": {},
   "source": [
    "---\n",
    "This is not the example from tensorflow site but\n",
    "a model that tries to simulate the 2nd assignment\n"
   ]
  },
  {
   "cell_type": "code",
   "execution_count": 4,
   "metadata": {
    "collapsed": true
   },
   "outputs": [],
   "source": [
    "from tensorflow.python.framework import ops\n",
    "\n",
    "ops.reset_default_graph()\n",
    "\n",
    "def weight_variable(shape):\n",
    "    initial = tf.truncated_normal(shape, stddev=0.1)\n",
    "    return tf.Variable(initial)\n",
    "\n",
    "def bias_variable(shape):\n",
    "    initial = tf.constant(0.1, shape=shape)\n",
    "    return tf.Variable(initial)\n",
    "\n",
    "# Input\n",
    "x = tf.placeholder(tf.float32, [None, 784])\n",
    "y_ = tf.placeholder(tf.float32, [None, 10])\n",
    "\n",
    "# Model\n",
    "W_nn = weight_variable([784, 1000])\n",
    "b_nn = bias_variable([1000])\n",
    "h_1 = tf.nn.relu(tf.matmul(x, W_nn) + b_nn)\n",
    "W_o = weight_variable([1000, 10])\n",
    "b_o = bias_variable([10])\n",
    "y_nn = tf.nn.softmax(tf.matmul(h_1, W_o) + b_o)\n",
    "\n",
    "# Train\n",
    "cross_entropy = -tf.reduce_sum(y_*tf.log(y_nn))\n",
    "train_step = tf.train.AdamOptimizer(1e-4).minimize(cross_entropy)\n",
    "\n",
    "# Evaluation\n",
    "correct_prediction = tf.equal(tf.argmax(y_nn,1), tf.argmax(y_,1))\n",
    "accuracy = tf.reduce_mean(tf.cast(correct_prediction, tf.float32))\n"
   ]
  },
  {
   "cell_type": "code",
   "execution_count": 5,
   "metadata": {
    "collapsed": false
   },
   "outputs": [
    {
     "name": "stdout",
     "output_type": "stream",
     "text": [
      "step 0, training accuracy 0.060000\n",
      "step 500, training accuracy 0.860000\n",
      "step 1000, training accuracy 0.900000\n",
      "step 1500, training accuracy 0.940000\n",
      "step 2000, training accuracy 0.940000\n",
      "step 2500, training accuracy 0.940000\n",
      "step 3000, training accuracy 0.940000\n",
      "step 3500, training accuracy 0.940000\n",
      "step 4000, training accuracy 1.000000\n",
      "step 4500, training accuracy 0.960000\n",
      "step 5000, training accuracy 0.940000\n",
      "step 5500, training accuracy 0.980000\n",
      "step 6000, training accuracy 0.960000\n",
      "step 6500, training accuracy 1.000000\n",
      "step 7000, training accuracy 1.000000\n",
      "step 7500, training accuracy 1.000000\n",
      "step 8000, training accuracy 1.000000\n",
      "step 8500, training accuracy 1.000000\n",
      "step 9000, training accuracy 1.000000\n",
      "step 9500, training accuracy 1.000000\n",
      "step 10000, training accuracy 0.980000\n",
      "step 10500, training accuracy 1.000000\n",
      "step 11000, training accuracy 1.000000\n",
      "step 11500, training accuracy 1.000000\n",
      "step 12000, training accuracy 0.980000\n",
      "step 12500, training accuracy 1.000000\n",
      "step 13000, training accuracy 1.000000\n",
      "step 13500, training accuracy 1.000000\n",
      "step 14000, training accuracy 1.000000\n",
      "step 14500, training accuracy 1.000000\n",
      "step 15000, training accuracy 1.000000\n",
      "step 15500, training accuracy 1.000000\n",
      "step 16000, training accuracy 0.980000\n",
      "step 16500, training accuracy 1.000000\n",
      "step 17000, training accuracy 1.000000\n",
      "step 17500, training accuracy 1.000000\n",
      "step 18000, training accuracy 1.000000\n",
      "step 18500, training accuracy 1.000000\n",
      "step 19000, training accuracy 1.000000\n",
      "step 19500, training accuracy 1.000000\n",
      "test accuracy 0.979700\n"
     ]
    }
   ],
   "source": [
    "\n",
    "sess = tf.Session()\n",
    "with sess:\n",
    "    sess.run(tf.initialize_all_variables())\n",
    "    for i in range(20000):\n",
    "        batch = mnist.train.next_batch(50)\n",
    "        if i%500 == 0:\n",
    "            train_acc = accuracy.eval(feed_dict={x:batch[0], y_:batch[1]})\n",
    "            print(\"step %d, training accuracy %f\" % (i, train_acc))\n",
    "        train_step.run(feed_dict={x: batch[0], y_: batch[1]})\n",
    "    \n",
    "    test_acc = accuracy.eval(\n",
    "        feed_dict={x: mnist.test.images, y_: mnist.test.labels})\n",
    "    print(\"test accuracy %f\" % test_acc)\n"
   ]
  },
  {
   "cell_type": "code",
   "execution_count": null,
   "metadata": {
    "collapsed": true
   },
   "outputs": [],
   "source": []
  }
 ],
 "metadata": {
  "kernelspec": {
   "display_name": "Python 3",
   "language": "python",
   "name": "python3"
  },
  "language_info": {
   "codemirror_mode": {
    "name": "ipython",
    "version": 3
   },
   "file_extension": ".py",
   "mimetype": "text/x-python",
   "name": "python",
   "nbconvert_exporter": "python",
   "pygments_lexer": "ipython3",
   "version": "3.5.1"
  }
 },
 "nbformat": 4,
 "nbformat_minor": 0
}
