{
 "cells": [
  {
   "cell_type": "markdown",
   "metadata": {},
   "source": [
    "Reverse words\n",
    "=============\n",
    "\n",
    "Based on translate.py and on code from https://discussions.udacity.com/users/dtrebbien.\n",
    "\n",
    "\n"
   ]
  },
  {
   "cell_type": "code",
   "execution_count": 1,
   "metadata": {
    "collapsed": false
   },
   "outputs": [],
   "source": [
    "%matplotlib inline\n",
    "\n",
    "\"\"\"Binary for training translation models and decoding from them.\n",
    "\n",
    "See the following papers for more information on neural translation models.\n",
    " * http://arxiv.org/abs/1409.3215\n",
    " * http://arxiv.org/abs/1409.0473\n",
    " * http://arxiv.org/abs/1412.2007\n",
    "\"\"\"\n",
    "\n",
    "import matplotlib.pyplot as plt\n",
    "\n",
    "\n",
    "import math\n",
    "import os\n",
    "import random\n",
    "import sys\n",
    "import time\n",
    "\n",
    "import numpy as np\n",
    "import tensorflow as tf\n",
    "\n",
    "from tensorflow.models.rnn.translate import data_utils\n",
    "from tensorflow.models.rnn.translate import seq2seq_model\n",
    "\n",
    "\n",
    "learning_rate = 0.5                  # \"Learning rate.\"\n",
    "learning_rate_decay_factor = 0.9     # \"Learning rate decays by this much.\"\n",
    "max_gradient_norm = 5.0              # \"Clip gradients to this norm.\"\n",
    "num_nodes = 128                      # \"Size of each model layer.\" # was 1024 \n",
    "num_layers = 1                       # \"Number of layers in the model.\" # was 3\n",
    "\n",
    "steps_per_eval = 10                  # \"How many training steps to do per eval.\"\n",
    "evals_per_validate = 10\n",
    "dodecode = False                     # \"Set to True for interactive decoding.\"\n",
    "\n",
    "\n",
    "batch_size = 16                      # equals to max number of words per input.\n",
    "MAX_CHARS_PER_WORD = 10\n",
    "\n",
    "# We use a number of buckets and pad to the closest one for efficiency.\n",
    "# See seq2seq_model.Seq2SeqModel for details of how they work.\n",
    "# example: buckets = [(5, 10), (10, 15), (20, 25), (40, 50)]\n",
    "_buckets = [(MAX_CHARS_PER_WORD, MAX_CHARS_PER_WORD+1)]\n",
    "\n"
   ]
  },
  {
   "cell_type": "code",
   "execution_count": 2,
   "metadata": {
    "collapsed": false
   },
   "outputs": [
    {
     "name": "stdout",
     "output_type": "stream",
     "text": [
      "Unexpected character:  \n",
      "Unexpected character: ï\n",
      "1 26 0 0\n",
      "a z  \n"
     ]
    }
   ],
   "source": [
    "import string\n",
    "\n",
    "vocabulary_size = len(string.ascii_lowercase) + 1 # [a-z]\n",
    "first_letter = ord(string.ascii_lowercase[0])\n",
    "\n",
    "def char2id(char):\n",
    "    if char in string.ascii_lowercase:\n",
    "        return ord(char) - first_letter + 1\n",
    "    else:\n",
    "        print('Unexpected character: %s' % char)\n",
    "        return 0\n",
    "  \n",
    "def id2char(dictid):\n",
    "    if dictid > 0:\n",
    "        return chr(dictid + first_letter - 1)\n",
    "    else:\n",
    "        return ' '\n",
    "\n",
    "print(char2id('a'), char2id('z'), char2id(' '), char2id('ï'))\n",
    "print(id2char(1), id2char(26), id2char(0))"
   ]
  },
  {
   "cell_type": "code",
   "execution_count": 3,
   "metadata": {
    "collapsed": true
   },
   "outputs": [],
   "source": [
    "def get_batch(size):\n",
    "    encoder_inputs = [np.random.Generator.integers(1, vocabulary_size, size) for _ in range(batch_size)]\n",
    "    decoder_inputs = [np.zeros(size+1, dtype = np.int32) for _ in range(batch_size)]\n",
    "    weights = [np.ones(size+1, dtype = float32) for _ in range(batch_size)]\n",
    "    for i in range(batch_size):\n",
    "        r = random.randint(1, size-1)\n",
    "        encoder_inputs[i][r:] = 0\n",
    "        # Reverse the encoder input sequence, but leave a 0 at index 0 and at least one 0 at the end.\n",
    "        # These are the GO and EOS markers.\n",
    "        decoder_inputs[i][1:r+1] = encoder_inputs[i][:r][::-1]\n",
    "        weights[i][r+1:] = 0.0\n",
    "    return np.transpose(encoder_inputs), np.transpose(decoder_inputs), np.transpose(weights)\n"
   ]
  },
  {
   "cell_type": "markdown",
   "metadata": {},
   "source": [
    "Bacthes are three matrices, encoder_inputs and decoder_inputs and weights. Weights are all zeroes.\n",
    "\n",
    "encoder_inputs have one entry per column (a fake word) with one letter per row.\n",
    "\n",
    "decoder_inputs (the \"labels\") are encoder_inputs reversed."
   ]
  },
  {
   "cell_type": "code",
   "execution_count": 4,
   "metadata": {
    "collapsed": false
   },
   "outputs": [
    {
     "name": "stdout",
     "output_type": "stream",
     "text": [
      "e_i\n",
      "[[22 25 13  7 17 15 18 16 18 15 19 25 10  8 10 14]\n",
      " [ 2  8  7  8  0 19 16 16  9 22 21 24 11 25  3  0]\n",
      " [ 0 23 12  5  0 19 23  0  3 21  3  1  8 10 26  0]\n",
      " [ 0 22 13 21  0  6  7  0 26  3  0 20  3  0  0  0]\n",
      " [ 0 18  0 14  0  0  8  0 20  7  0 11 12  0  0  0]\n",
      " [ 0  0  0 22  0  0 15  0 15  4  0 16  0  0  0  0]\n",
      " [ 0  0  0 24  0  0  1  0  0  0  0 15  0  0  0  0]\n",
      " [ 0  0  0 16  0  0  9  0  0  0  0 17  0  0  0  0]\n",
      " [ 0  0  0 23  0  0  7  0  0  0  0 22  0  0  0  0]\n",
      " [ 0  0  0  0  0  0  0  0  0  0  0  0  0  0  0  0]]\n",
      "d_i\n",
      "[[ 0  0  0  0  0  0  0  0  0  0  0  0  0  0  0  0]\n",
      " [ 2 18 13 23 17  6  7 16 15  4  3 22 12 10 26 14]\n",
      " [22 22 12 16  0 19  9 16 20  7 21 17  3 25  3  0]\n",
      " [ 0 23  7 24  0 19  1  0 26  3 19 15  8  8 10  0]\n",
      " [ 0  8 13 22  0 15 15  0  3 21  0 16 11  0  0  0]\n",
      " [ 0 25  0 14  0  0  8  0  9 22  0 11 10  0  0  0]\n",
      " [ 0  0  0 21  0  0  7  0 18 15  0 20  0  0  0  0]\n",
      " [ 0  0  0  5  0  0 23  0  0  0  0  1  0  0  0  0]\n",
      " [ 0  0  0  8  0  0 16  0  0  0  0 24  0  0  0  0]\n",
      " [ 0  0  0  7  0  0 18  0  0  0  0 25  0  0  0  0]\n",
      " [ 0  0  0  0  0  0  0  0  0  0  0  0  0  0  0  0]]\n"
     ]
    }
   ],
   "source": [
    "b = get_batch(MAX_CHARS_PER_WORD)\n",
    "print('e_i')\n",
    "print(b[0])\n",
    "print('d_i')\n",
    "print(b[1])\n",
    "\n"
   ]
  },
  {
   "cell_type": "code",
   "execution_count": 5,
   "metadata": {
    "collapsed": false
   },
   "outputs": [
    {
     "name": "stdout",
     "output_type": "stream",
     "text": [
      "[[20 17  2  6 10 15 20 12  4  2 25  1 13  2 14  8]\n",
      " [ 8 21 18 15 21 22  8  1 15  5 15 14  5 21 15  5]\n",
      " [ 5  9 15 24 13  5  5 26  7 20 21  4  0 20 20 18]\n",
      " [ 0  3 23  0 16 18  0 25  0 23  0  0  0  0  0  0]\n",
      " [ 0 11 14  0 19  0  0  0  0  5  0  0  0  0  0  0]\n",
      " [ 0  0  0  0  0  0  0  0  0  5  0  0  0  0  0  0]\n",
      " [ 0  0  0  0  0  0  0  0  0 14  0  0  0  0  0  0]\n",
      " [ 0  0  0  0  0  0  0  0  0  0  0  0  0  0  0  0]\n",
      " [ 0  0  0  0  0  0  0  0  0  0  0  0  0  0  0  0]\n",
      " [ 0  0  0  0  0  0  0  0  0  0  0  0  0  0  0  0]]\n",
      "> [the quick brown fox jumps over the lazy dog between you and me but not her]\n",
      "< [the quick brown fox jumps over the lazy dog between you and me but not her]\n"
     ]
    }
   ],
   "source": [
    "\n",
    "def get_validation_batch(text, size):\n",
    "    words = text.split()[:batch_size]\n",
    "    encoder_inputs = [np.zeros(size, dtype = np.int32) for _ in range(batch_size)]\n",
    "    for i, word in enumerate(words):\n",
    "        l = min(len(word), size - 1)\n",
    "        for j in range(l):\n",
    "            encoder_inputs[i][j] = char2id(word[j])\n",
    "    return np.transpose(encoder_inputs)\n",
    "\n",
    "def totext(inputs):\n",
    "    inp = np.transpose(inputs)\n",
    "    toletters = np.vectorize(id2char)\n",
    "    return ' '.join([ ''.join(row).rstrip() for row in toletters(inp)]).rstrip()\n",
    "\n",
    "\n",
    "text_encoded = \"the quick brown fox jumps over the lazy dog between you and me but not her\"\n",
    "val_encoder_inputs = get_validation_batch(text_encoded, MAX_CHARS_PER_WORD)\n",
    "print(val_encoder_inputs)\n",
    "print(\"> [%s]\" % text_encoded)\n",
    "print(\"< [%s]\" % totext(val_encoder_inputs))"
   ]
  },
  {
   "cell_type": "markdown",
   "metadata": {},
   "source": [
    "----------------------\n",
    "\n",
    "Model\n",
    "-----\n",
    "\n"
   ]
  },
  {
   "cell_type": "code",
   "execution_count": 6,
   "metadata": {
    "collapsed": true
   },
   "outputs": [],
   "source": [
    "\n",
    "def create_model(session, forward_only):\n",
    "    \"\"\"Create translation model and initialize or load parameters in session.\"\"\"\n",
    "    model = seq2seq_model.Seq2SeqModel(\n",
    "        vocabulary_size, vocabulary_size, _buckets,\n",
    "        num_nodes, num_layers, max_gradient_norm, batch_size,\n",
    "        learning_rate, learning_rate_decay_factor,\n",
    "        use_lstm = True, forward_only=forward_only)\n",
    "    \n",
    "    print(\"Created model with fresh parameters.\")\n",
    "    session.run(tf.initialize_all_variables())\n",
    "    return model\n"
   ]
  },
  {
   "cell_type": "markdown",
   "metadata": {},
   "source": [
    "#### Description of `evaluate_model`\n",
    "\n",
    "> You are absolutely correct that the true decoder_inputs should not be provided to the step() method when evaluating the performance of the network. I originally made this mistake and fixed it a few days later, but forgot to update my results post (which I have now done).\n",
    ">\n",
    "> For the purpose of explaining how I approached evaluation, consider the word \"quickly\". With size = 10, the encoder inputs for this example are ['q', 'u', 'i', 'c', 'k', 'l', 'y', 0, 0, 0], the decoder inputs during training are [0, 'y', 'l', 'k', 'c', 'i', 'u', 'q', 0, 0, 0], and the target weights during training are [1, 1, 1, 1, 1, 1, 1, 1, 0, 0, 0] (I wrote characters, but the characters are actually encoded as integers). During evaluation, I want the network to \"output\" the correct decoder inputs and training weights on its own, so I need to pretend that I don't have that information available and instead construct these two arrays.\n",
    ">\n",
    "> What I did is start with encoder inputs ['q', 'u', 'i', 'c', 'k', 'l', 'y', 0, 0, 0], decoder inputs [0, 0, 0, 0, 0, 0, 0, 0, 0, 0, 0], and training weights [1, 0, 0, 0, 0, 0, 0, 0, 0, 0, 0]. I call the step() method in forward-only mode to get the predicted output distribution for the first character:\n",
    "> \n",
    "    _, _, output_logits = model.step(sess, val_encoder_inputs, val_decoder_inputs, val_target_weights, bucket_id = 0, forward_only = True)\n",
    "> \n",
    "> output_logits[0] is the predicted probability distribution for the first character. I adopted a greedy approach of selecting the one with the highest predicted probability. Suppose that the character with the highest predicted probability is 'y'. I set decoder inputs to [0, 'y', 0, 0, 0, 0, 0, 0, 0, 0, 0] and training weights to [1, 1, 0, 0, 0, 0, 0, 0, 0, 0, 0]. I then run step() again in forward-only mode to get the predicted probability distribution for the second character. Suppose that the character with the highest predicted probability is also 'y'. I set decoder inputs to [0, 'y', 'y', 0, 0, 0, 0, 0, 0, 0, 0] and training weights to [1, 1, 1, 0, 0, 0, 0, 0, 0, 0, 0]. I then run step() again in forward-only mode to get the predicted probability distribution for the third character. Suppose that the character with the highest predicted probability is 'k'. I set decoder inputs to [0, 'y', 'y', 'k', 0, 0, 0, 0, 0, 0, 0] and training weights to [1, 1, 1, 1, 0, 0, 0, 0, 0, 0, 0]. I continue running step() in forward-only mode until the network predicts a 0 (EOS) for the next output character.\n"
   ]
  },
  {
   "cell_type": "code",
   "execution_count": 7,
   "metadata": {
    "collapsed": true
   },
   "outputs": [],
   "source": [
    "\n",
    "def evaluate_model(model, sess, val_encoder_inputs, output_size):\n",
    "    val_decoder_inputs = np.zeros((output_size+1, batch_size,), dtype = np.int32)\n",
    "    val_target_weights = np.zeros((output_size+1, batch_size,), dtype = float32)\n",
    "    val_target_weights[0,:] = 1.0\n",
    "    is_finished = np.full((batch_size,), False, dtype = np.bool_)\n",
    "    for i in range(output_size):\n",
    "        _, _, output_logits = model.step(sess,\n",
    "                                         val_encoder_inputs, val_decoder_inputs, val_target_weights,\n",
    "                                         bucket_id = 0, forward_only = True)\n",
    "        p = np.argmax(output_logits[i], axis = 1)\n",
    "        is_finished = np.logical_or(is_finished, p == 0)\n",
    "        val_decoder_inputs[i,:] = (1 - is_finished) * p\n",
    "        val_target_weights[i,:] = (1.0 - is_finished) * 1.0\n",
    "    return val_decoder_inputs"
   ]
  },
  {
   "cell_type": "code",
   "execution_count": 8,
   "metadata": {
    "collapsed": false
   },
   "outputs": [],
   "source": [
    "num_steps = 801\n",
    "\n",
    "\n",
    "def train():\n",
    "    step_losses = []\n",
    "    with tf.Session() as sess:\n",
    "        # Create model.\n",
    "        print(\"Creating %d layers of %d units.\" % (num_layers, num_nodes))\n",
    "        model = create_model(sess, False)\n",
    "\n",
    "        # This is the training loop.\n",
    "        loss = 0.0\n",
    "        current_step = 0\n",
    "        previous_losses = []\n",
    "        for _ in range(num_steps):\n",
    "\n",
    "            # Get a batch and make a step.\n",
    "            encoder_inputs, decoder_inputs, target_weights = get_batch(MAX_CHARS_PER_WORD)\n",
    "            _, step_loss, _ = model.step(sess,\n",
    "                                         encoder_inputs, decoder_inputs, target_weights,\n",
    "                                         0, False)\n",
    "            step_losses.append(step_loss)\n",
    "            loss += step_loss / steps_per_eval\n",
    "            current_step += 1\n",
    "\n",
    "            # Once in a while, print statistics, and run evals.\n",
    "            if current_step % steps_per_eval == 0:\n",
    "                # Print statistics for the previous epoch.\n",
    "                perplexity = math.exp(loss) if loss < 300 else float('inf')\n",
    "                print (\"step %d learning rate %.4f perplexity %.2f\" %\n",
    "                        (model.global_step.eval(), model.learning_rate.eval(), perplexity))\n",
    "                \n",
    "                # Decrease learning rate if no improvement was seen over last 3 times.\n",
    "                if len(previous_losses) > 2 and loss > max(previous_losses[-3:]):\n",
    "                    sess.run(model.learning_rate_decay_op)\n",
    "                previous_losses.append(loss)\n",
    "                # Zero loss.\n",
    "                loss = 0.0\n",
    "                \n",
    "                # test model.\n",
    "                if current_step % (steps_per_eval * evals_per_validate) == 0:\n",
    "                    val_decoder_inputs = evaluate_model(model, sess, val_encoder_inputs, MAX_CHARS_PER_WORD)\n",
    "                    text_decoded = totext(val_decoder_inputs)\n",
    "                    print(\"> [%s]\" % text_encoded)\n",
    "                    print(\"< [%s]\" % text_decoded)\n",
    "                \n",
    "                sys.stdout.flush()\n",
    "    return step_losses\n"
   ]
  },
  {
   "cell_type": "code",
   "execution_count": 9,
   "metadata": {
    "collapsed": false
   },
   "outputs": [
    {
     "name": "stdout",
     "output_type": "stream",
     "text": [
      "Creating 1 layers of 128 units.\n",
      "Created model with fresh parameters.\n",
      "step 10 learning rate 0.5000 perplexity 24.11\n",
      "step 20 learning rate 0.5000 perplexity 20.78\n",
      "step 30 learning rate 0.5000 perplexity 18.81\n",
      "step 40 learning rate 0.5000 perplexity 17.93\n",
      "step 50 learning rate 0.5000 perplexity 15.89\n",
      "step 60 learning rate 0.5000 perplexity 13.10\n",
      "step 70 learning rate 0.5000 perplexity 11.91\n",
      "step 80 learning rate 0.5000 perplexity 11.24\n",
      "step 90 learning rate 0.5000 perplexity 8.55\n",
      "step 100 learning rate 0.5000 perplexity 7.89\n",
      "> [the quick brown fox jumps over the lazy dog between you and me but not her]\n",
      "< [h ccck ww oo sssss rrr h yaa o eeee oo aa e tt t rr]\n",
      "step 110 learning rate 0.5000 perplexity 7.15\n",
      "step 120 learning rate 0.5000 perplexity 6.50\n",
      "step 130 learning rate 0.5000 perplexity 5.85\n",
      "step 140 learning rate 0.5000 perplexity 6.50\n",
      "step 150 learning rate 0.5000 perplexity 5.41\n",
      "step 160 learning rate 0.5000 perplexity 5.13\n",
      "step 170 learning rate 0.5000 perplexity 4.91\n",
      "step 180 learning rate 0.5000 perplexity 4.73\n",
      "step 190 learning rate 0.5000 perplexity 4.36\n",
      "step 200 learning rate 0.5000 perplexity 4.11\n",
      "> [the quick brown fox jumps over the lazy dog between you and me but not her]\n",
      "< [e kcq ww xf ssuu rr e ya g eeeeeb u d e t t ee]\n",
      "step 210 learning rate 0.5000 perplexity 4.56\n",
      "step 220 learning rate 0.5000 perplexity 3.64\n",
      "step 230 learning rate 0.5000 perplexity 3.37\n",
      "step 240 learning rate 0.5000 perplexity 3.27\n",
      "step 250 learning rate 0.5000 perplexity 3.75\n",
      "step 260 learning rate 0.4500 perplexity 3.13\n",
      "step 270 learning rate 0.4500 perplexity 3.16\n",
      "step 280 learning rate 0.4500 perplexity 2.45\n",
      "step 290 learning rate 0.4500 perplexity 2.75\n",
      "step 300 learning rate 0.4500 perplexity 2.85\n",
      "> [the quick brown fox jumps over the lazy dog between you and me but not her]\n",
      "< [eht kkciq nnoob xoof ssuuj revo eht yyzl ggo eeeeeeb uooy dda em ttb ttn reh]\n",
      "step 310 learning rate 0.4500 perplexity 2.78\n",
      "step 320 learning rate 0.4500 perplexity 2.58\n",
      "step 330 learning rate 0.4500 perplexity 2.64\n",
      "step 340 learning rate 0.4500 perplexity 2.51\n",
      "step 350 learning rate 0.4500 perplexity 2.37\n",
      "step 360 learning rate 0.4500 perplexity 2.82\n",
      "step 370 learning rate 0.4050 perplexity 1.79\n",
      "step 380 learning rate 0.4050 perplexity 1.96\n",
      "step 390 learning rate 0.4050 perplexity 1.87\n",
      "step 400 learning rate 0.4050 perplexity 1.72\n",
      "> [the quick brown fox jumps over the lazy dog between you and me but not her]\n",
      "< [eht kciu nwrrb xof ssuuj revo eht yzal god eewwebb uoy dna em tub ton reh]\n",
      "step 410 learning rate 0.4050 perplexity 1.81\n",
      "step 420 learning rate 0.4050 perplexity 1.85\n",
      "step 430 learning rate 0.4050 perplexity 2.02\n",
      "step 440 learning rate 0.3645 perplexity 1.42\n",
      "step 450 learning rate 0.3645 perplexity 1.72\n",
      "step 460 learning rate 0.3645 perplexity 1.87\n",
      "step 470 learning rate 0.3645 perplexity 1.49\n",
      "step 480 learning rate 0.3645 perplexity 1.77\n",
      "step 490 learning rate 0.3645 perplexity 1.46\n",
      "step 500 learning rate 0.3645 perplexity 1.73\n",
      "> [the quick brown fox jumps over the lazy dog between you and me but not her]\n",
      "< [eht kciuq nworb xof spmuj revo eht yzal god eewteeb uoy dna em tub ton reh]\n",
      "step 510 learning rate 0.3645 perplexity 1.32\n",
      "step 520 learning rate 0.3645 perplexity 1.54\n",
      "step 530 learning rate 0.3645 perplexity 1.72\n",
      "step 540 learning rate 0.3645 perplexity 1.39\n",
      "step 550 learning rate 0.3645 perplexity 1.23\n",
      "step 560 learning rate 0.3645 perplexity 1.44\n",
      "step 570 learning rate 0.3645 perplexity 1.30\n",
      "step 580 learning rate 0.3645 perplexity 2.06\n",
      "step 590 learning rate 0.3280 perplexity 1.52\n",
      "step 600 learning rate 0.3280 perplexity 1.27\n",
      "> [the quick brown fox jumps over the lazy dog between you and me but not her]\n",
      "< [eht kciuq nworb xof spmuj revo eht yzal god neewteb uoy dna em tub ton reh]\n",
      "step 610 learning rate 0.3280 perplexity 1.27\n",
      "step 620 learning rate 0.3280 perplexity 1.20\n",
      "step 630 learning rate 0.3280 perplexity 1.18\n",
      "step 640 learning rate 0.3280 perplexity 1.11\n",
      "step 650 learning rate 0.3280 perplexity 1.19\n",
      "step 660 learning rate 0.3280 perplexity 1.71\n",
      "step 670 learning rate 0.2952 perplexity 1.17\n",
      "step 680 learning rate 0.2952 perplexity 1.10\n",
      "step 690 learning rate 0.2952 perplexity 1.09\n",
      "step 700 learning rate 0.2952 perplexity 1.14\n",
      "> [the quick brown fox jumps over the lazy dog between you and me but not her]\n",
      "< [eht kciuq nworb xof spmuj revo eht yzal god neewteb uoy dna em tub ton reh]\n",
      "step 710 learning rate 0.2952 perplexity 1.17\n",
      "step 720 learning rate 0.2657 perplexity 1.07\n",
      "step 730 learning rate 0.2657 perplexity 1.06\n",
      "step 740 learning rate 0.2657 perplexity 1.05\n",
      "step 750 learning rate 0.2657 perplexity 1.05\n",
      "step 760 learning rate 0.2657 perplexity 1.12\n",
      "step 770 learning rate 0.2391 perplexity 1.07\n",
      "step 780 learning rate 0.2391 perplexity 1.05\n",
      "step 790 learning rate 0.2391 perplexity 1.03\n",
      "step 800 learning rate 0.2391 perplexity 1.03\n",
      "> [the quick brown fox jumps over the lazy dog between you and me but not her]\n",
      "< [eht kciuq nworb xof spmuj revo eht yzal god neewteb uoy dna em tub ton reh]\n"
     ]
    }
   ],
   "source": [
    "from tensorflow.python.framework import ops\n",
    "ops.reset_default_graph()\n",
    "\n",
    "all_losses = train()\n"
   ]
  },
  {
   "cell_type": "code",
   "execution_count": 10,
   "metadata": {
    "collapsed": false
   },
   "outputs": [
    {
     "data": {
      "image/png": "[encoded data removed]",
      "text/plain": [
       "<matplotlib.figure.Figure at 0x10b751a58>"
      ]
     },
     "metadata": {},
     "output_type": "display_data"
    }
   ],
   "source": [
    "# show chart of losses\n",
    "\n",
    "plt.figure(num=1,figsize=(14,6))\n",
    "plt.plot(all_losses)\n",
    "plt.xlabel(\"Steps\")\n",
    "plt.ylabel(\"Loss\")\n",
    "plt.title(\"Convergence\")\n",
    "plt.show()\n"
   ]
  },
  {
   "cell_type": "code",
   "execution_count": 11,
   "metadata": {
    "collapsed": false
   },
   "outputs": [
    {
     "name": "stdout",
     "output_type": "stream",
     "text": [
      "Self-test for neural translation model.\n"
     ]
    }
   ],
   "source": [
    "from tensorflow.python.framework import ops\n",
    "ops.reset_default_graph()\n",
    "\n",
    "def self_test():\n",
    "    \"\"\"Test the translation model.\"\"\"\n",
    "    \n",
    "    with tf.Session() as sess:\n",
    "        print(\"Self-test for neural translation model.\")\n",
    "        # Create model with vocabularies of 10, 2 small buckets, 2 layers of 32.\n",
    "        model = seq2seq_model.Seq2SeqModel(10, 10, [(3, 3), (6, 6)], 32, 2,\n",
    "                                       5.0, 32, 0.3, 0.99, num_samples=8)\n",
    "        sess.run(tf.initialize_all_variables())\n",
    "\n",
    "        # Fake data set for both the (3, 3) and (6, 6) bucket.\n",
    "        data_set = ([([1, 1], [2, 2]), ([3, 3], [4]), ([5], [6])],\n",
    "                    [([1, 1, 1, 1, 1], [2, 2, 2, 2, 2]), ([3, 3, 3], [5, 6])])\n",
    "        for _ in range(5):  # Train the fake model for 5 steps.\n",
    "            bucket_id = random.choice([0, 1])\n",
    "            encoder_inputs, decoder_inputs, target_weights = model.get_batch(data_set, bucket_id)\n",
    "            model.step(sess, encoder_inputs, decoder_inputs, target_weights, bucket_id, False)\n",
    "\n",
    "self_test()"
   ]
  },
  {
   "cell_type": "code",
   "execution_count": null,
   "metadata": {
    "collapsed": true
   },
   "outputs": [],
   "source": []
  }
 ],
 "metadata": {
  "kernelspec": {
   "display_name": "Python 3",
   "language": "python",
   "name": "python3"
  },
  "language_info": {
   "codemirror_mode": {
    "name": "ipython",
    "version": 3
   },
   "file_extension": ".py",
   "mimetype": "text/x-python",
   "name": "python",
   "nbconvert_exporter": "python",
   "pygments_lexer": "ipython3",
   "version": "3.5.1"
  }
 },
 "nbformat": 4,
 "nbformat_minor": 0
}
