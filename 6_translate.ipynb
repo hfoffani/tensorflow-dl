{
 "cells": [
  {
   "cell_type": "markdown",
   "metadata": {},
   "source": [
    "Reverse words\n",
    "=============\n",
    "\n",
    "Based on translate.py and on code from https://discussions.udacity.com/users/dtrebbien.\n",
    "\n",
    "\n"
   ]
  },
  {
   "cell_type": "code",
   "execution_count": 130,
   "metadata": {
    "collapsed": false
   },
   "outputs": [],
   "source": [
    "%matplotlib inline\n",
    "\n",
    "\"\"\"Binary for training translation models and decoding from them.\n",
    "\n",
    "See the following papers for more information on neural translation models.\n",
    " * http://arxiv.org/abs/1409.3215\n",
    " * http://arxiv.org/abs/1409.0473\n",
    " * http://arxiv.org/abs/1412.2007\n",
    "\"\"\"\n",
    "\n",
    "import matplotlib.pyplot as plt\n",
    "\n",
    "\n",
    "import math\n",
    "import os\n",
    "import random\n",
    "import sys\n",
    "import time\n",
    "\n",
    "import numpy as np\n",
    "import tensorflow as tf\n",
    "\n",
    "from tensorflow.models.rnn.translate import data_utils\n",
    "from tensorflow.models.rnn.translate import seq2seq_model\n",
    "\n",
    "\n",
    "learning_rate = 0.5                  # \"Learning rate.\"\n",
    "learning_rate_decay_factor = 0.9     # \"Learning rate decays by this much.\"\n",
    "max_gradient_norm = 5.0              # \"Clip gradients to this norm.\"\n",
    "num_nodes = 128                      # \"Size of each model layer.\" # was 1024 \n",
    "num_layers = 1                       # \"Number of layers in the model.\" # was 3\n",
    "\n",
    "steps_per_eval = 10                  # \"How many training steps to do per eval.\"\n",
    "evals_per_validate = 10\n",
    "dodecode = False                     # \"Set to True for interactive decoding.\"\n",
    "\n",
    "\n",
    "batch_size = 16                      # equals to max number of words per input.\n",
    "MAX_CHARS_PER_WORD = 10\n",
    "\n",
    "# We use a number of buckets and pad to the closest one for efficiency.\n",
    "# See seq2seq_model.Seq2SeqModel for details of how they work.\n",
    "# _buckets = [(5, 10), (10, 15), (20, 25), (40, 50)]\n",
    "_buckets = [(MAX_CHARS_PER_WORD, MAX_CHARS_PER_WORD+1)]\n",
    "\n"
   ]
  },
  {
   "cell_type": "code",
   "execution_count": 107,
   "metadata": {
    "collapsed": false
   },
   "outputs": [
    {
     "name": "stdout",
     "output_type": "stream",
     "text": [
      "Unexpected character:  \n",
      "Unexpected character: ï\n",
      "1 26 0 0\n",
      "a z  \n"
     ]
    }
   ],
   "source": [
    "import string\n",
    "\n",
    "vocabulary_size = len(string.ascii_lowercase) + 1 # [a-z]\n",
    "first_letter = ord(string.ascii_lowercase[0])\n",
    "\n",
    "def char2id(char):\n",
    "    if char in string.ascii_lowercase:\n",
    "        return ord(char) - first_letter + 1\n",
    "    else:\n",
    "        print('Unexpected character: %s' % char)\n",
    "        return 0\n",
    "  \n",
    "def id2char(dictid):\n",
    "    if dictid > 0:\n",
    "        return chr(dictid + first_letter - 1)\n",
    "    else:\n",
    "        return ' '\n",
    "\n",
    "print(char2id('a'), char2id('z'), char2id(' '), char2id('ï'))\n",
    "print(id2char(1), id2char(26), id2char(0))"
   ]
  },
  {
   "cell_type": "code",
   "execution_count": 108,
   "metadata": {
    "collapsed": true
   },
   "outputs": [],
   "source": [
    "def get_batch(size):\n",
    "    encoder_inputs = [np.random.randint(1, vocabulary_size, size) for _ in xrange(batch_size)]\n",
    "    decoder_inputs = [np.zeros(size+1, dtype = np.int32) for _ in xrange(batch_size)]\n",
    "    weights = [np.ones(size+1, dtype = np.float32) for _ in xrange(batch_size)]\n",
    "    for i in xrange(batch_size):\n",
    "        r = random.randint(1, size-1)\n",
    "        encoder_inputs[i][r:] = 0\n",
    "        # Reverse the encoder input sequence, but leave a 0 at index 0 and at least one 0 at the end.\n",
    "        # These are the GO and EOS markers.\n",
    "        decoder_inputs[i][1:r+1] = encoder_inputs[i][:r][::-1]\n",
    "        weights[i][r+1:] = 0.0\n",
    "    return np.transpose(encoder_inputs), np.transpose(decoder_inputs), np.transpose(weights)\n"
   ]
  },
  {
   "cell_type": "markdown",
   "metadata": {},
   "source": [
    "Bacthes are three matrices, encoder_inputs and decoder_inputs and weights. Weights are all zeroes.\n",
    "\n",
    "encoder_inputs have one entry per column (a fake word) with one letter per row.\n",
    "\n",
    "decoder_inputs (the \"labels\") are encoder_inputs reversed."
   ]
  },
  {
   "cell_type": "code",
   "execution_count": 109,
   "metadata": {
    "collapsed": false
   },
   "outputs": [
    {
     "name": "stdout",
     "output_type": "stream",
     "text": [
      "e_i\n",
      "[[17 18 20  8 10  6  8  1 10 23  8  4 11 24  2 12]\n",
      " [ 4 23  8 12  1  9  0 24 11 25  9 22 24 19 11  2]\n",
      " [ 6  8 12  1 18 20  0 14  2  4 21  8  7  8  9 14]\n",
      " [ 4 19 16 22  1 24  0 26  0  0 24  4 17 14 17 19]\n",
      " [ 4 24 10 23  0  3  0  3  0  0 14 26 12 10  0 20]\n",
      " [ 5  0  9  3  0  9  0  0  0  0  8 13  9  0  0  8]\n",
      " [ 4  0  0 19  0  5  0  0  0  0 13  0  5  0  0 13]\n",
      " [ 6  0  0 16  0  4  0  0  0  0 16  0 26  0  0  2]\n",
      " [ 0  0  0 14  0 11  0  0  0  0 25  0 22  0  0  4]\n",
      " [ 0  0  0  0  0  0  0  0  0  0  0  0  0  0  0  0]]\n",
      "d_i\n",
      "[[ 0  0  0  0  0  0  0  0  0  0  0  0  0  0  0  0]\n",
      " [ 6 24  9 14  1 11  8  3  2  4 25 13 22 10 17  4]\n",
      " [ 4 19 10 16 18  4  0 26 11 25 16 26 26 14  9  2]\n",
      " [ 5  8 16 19  1  5  0 14 10 23 13  4  5  8 11 13]\n",
      " [ 4 23 12  3 10  9  0 24  0  0  8  8  9 19  2  8]\n",
      " [ 4 18  8 23  0  3  0  1  0  0 14 22 12 24  0 20]\n",
      " [ 6  0 20 22  0 24  0  0  0  0 24  4 17  0  0 19]\n",
      " [ 4  0  0  1  0 20  0  0  0  0 21  0  7  0  0 14]\n",
      " [17  0  0 12  0  9  0  0  0  0  9  0 24  0  0  2]\n",
      " [ 0  0  0  8  0  6  0  0  0  0  8  0 11  0  0 12]\n",
      " [ 0  0  0  0  0  0  0  0  0  0  0  0  0  0  0  0]]\n"
     ]
    }
   ],
   "source": [
    "# batch_size=20\n",
    "b = get_batch(MAX_CHARS_PER_WORD)\n",
    "print('e_i')\n",
    "print(b[0])\n",
    "print('d_i')\n",
    "print(b[1])\n",
    "\n"
   ]
  },
  {
   "cell_type": "code",
   "execution_count": 110,
   "metadata": {
    "collapsed": false
   },
   "outputs": [
    {
     "name": "stdout",
     "output_type": "stream",
     "text": [
      "[[20 17  2  6 10 15 20 12  4  2 25  1 13  2 14  8]\n",
      " [ 8 21 18 15 21 22  8  1 15  5 15 14  5 21 15  5]\n",
      " [ 5  9 15 24 13  5  5 26  7 20 21  4  0 20 20 18]\n",
      " [ 0  3 23  0 16 18  0 25  0 23  0  0  0  0  0  0]\n",
      " [ 0 11 14  0 19  0  0  0  0  5  0  0  0  0  0  0]\n",
      " [ 0  0  0  0  0  0  0  0  0  5  0  0  0  0  0  0]\n",
      " [ 0  0  0  0  0  0  0  0  0 14  0  0  0  0  0  0]\n",
      " [ 0  0  0  0  0  0  0  0  0  0  0  0  0  0  0  0]\n",
      " [ 0  0  0  0  0  0  0  0  0  0  0  0  0  0  0  0]\n",
      " [ 0  0  0  0  0  0  0  0  0  0  0  0  0  0  0  0]]\n",
      "> [the quick brown fox jumps over the lazy dog between you and me but not her]\n",
      "< [the quick brown fox jumps over the lazy dog between you and me but not her]\n"
     ]
    }
   ],
   "source": [
    "\n",
    "def get_validation_batch(text, size):\n",
    "    words = text.split()[:batch_size]\n",
    "    encoder_inputs = [np.zeros(size, dtype = np.int32) for _ in xrange(batch_size)]\n",
    "    for i, word in enumerate(words):\n",
    "        l = min(len(word), size - 1)\n",
    "        for j in xrange(l):\n",
    "            encoder_inputs[i][j] = char2id(word[j])\n",
    "    return np.transpose(encoder_inputs)\n",
    "\n",
    "def totext(inputs):\n",
    "    inp = np.transpose(inputs)\n",
    "    toletters = np.vectorize(id2char)\n",
    "    return ' '.join([ ''.join(row).rstrip() for row in toletters(inp)]).rstrip()\n",
    "\n",
    "\n",
    "text_encoded = \"the quick brown fox jumps over the lazy dog between you and me but not her\"\n",
    "val_encoder_inputs = get_validation_batch(text_encoded, MAX_CHARS_PER_WORD)\n",
    "print(val_encoder_inputs)\n",
    "print(\"> [%s]\" % text_encoded)\n",
    "print(\"< [%s]\" % totext(val_encoder_inputs))"
   ]
  },
  {
   "cell_type": "markdown",
   "metadata": {},
   "source": [
    "----------------------\n",
    "\n",
    "Model\n",
    "-----\n",
    "\n"
   ]
  },
  {
   "cell_type": "code",
   "execution_count": 111,
   "metadata": {
    "collapsed": true
   },
   "outputs": [],
   "source": [
    "\n",
    "def create_model(session, forward_only):\n",
    "    \"\"\"Create translation model and initialize or load parameters in session.\"\"\"\n",
    "    model = seq2seq_model.Seq2SeqModel(\n",
    "        vocabulary_size, vocabulary_size, _buckets,\n",
    "        num_nodes, num_layers, max_gradient_norm, batch_size,\n",
    "        learning_rate, learning_rate_decay_factor,\n",
    "        use_lstm = True, forward_only=forward_only)\n",
    "    \n",
    "    print(\"Created model with fresh parameters.\")\n",
    "    session.run(tf.initialize_all_variables())\n",
    "    return model\n"
   ]
  },
  {
   "cell_type": "code",
   "execution_count": 112,
   "metadata": {
    "collapsed": true
   },
   "outputs": [],
   "source": [
    "# should study this.\n",
    "\n",
    "def evaluate_model(model, sess, val_encoder_inputs, output_size):\n",
    "    val_decoder_inputs = np.zeros((output_size+1, batch_size,), dtype = np.int32)\n",
    "    val_target_weights = np.zeros((output_size+1, batch_size,), dtype = np.float32)\n",
    "    val_target_weights[0,:] = 1.0\n",
    "    is_finished = np.full((batch_size,), False, dtype = np.bool_)\n",
    "    for i in xrange(output_size):\n",
    "        _, _, output_logits = model.step(sess,\n",
    "                                         val_encoder_inputs, val_decoder_inputs, val_target_weights,\n",
    "                                         bucket_id = 0, forward_only = True)\n",
    "        p = np.argmax(output_logits[i], axis = 1)\n",
    "        is_finished = np.logical_or(is_finished, p == 0)\n",
    "        val_decoder_inputs[i,:] = (1 - is_finished) * p\n",
    "        val_target_weights[i,:] = (1.0 - is_finished) * 1.0\n",
    "    return val_decoder_inputs"
   ]
  },
  {
   "cell_type": "code",
   "execution_count": 131,
   "metadata": {
    "collapsed": false
   },
   "outputs": [],
   "source": [
    "num_steps = 501\n",
    "\n",
    "\n",
    "def train():\n",
    "    step_losses = []\n",
    "    with tf.Session() as sess:\n",
    "        # Create model.\n",
    "        print(\"Creating %d layers of %d units.\" % (num_layers, num_nodes))\n",
    "        model = create_model(sess, False)\n",
    "\n",
    "        # This is the training loop.\n",
    "        loss = 0.0\n",
    "        current_step = 0\n",
    "        previous_losses = []\n",
    "        for _ in xrange(num_steps):\n",
    "\n",
    "            # Get a batch and make a step.\n",
    "            encoder_inputs, decoder_inputs, target_weights = get_batch(MAX_CHARS_PER_WORD)\n",
    "            _, step_loss, _ = model.step(sess,\n",
    "                                         encoder_inputs, decoder_inputs, target_weights,\n",
    "                                         0, False)\n",
    "            step_losses.append(step_loss)\n",
    "            loss += step_loss / steps_per_eval\n",
    "            current_step += 1\n",
    "\n",
    "            # Once in a while, print statistics, and run evals.\n",
    "            if current_step % steps_per_eval == 0:\n",
    "                # Print statistics for the previous epoch.\n",
    "                perplexity = math.exp(loss) if loss < 300 else float('inf')\n",
    "                print (\"step %d learning rate %.4f perplexity %.2f\" %\n",
    "                        (model.global_step.eval(), model.learning_rate.eval(), perplexity))\n",
    "                \n",
    "                # Decrease learning rate if no improvement was seen over last 3 times.\n",
    "                if len(previous_losses) > 2 and loss > max(previous_losses[-3:]):\n",
    "                    sess.run(model.learning_rate_decay_op)\n",
    "                previous_losses.append(loss)\n",
    "                # Zero loss.\n",
    "                loss = 0.0\n",
    "                \n",
    "                # test model.\n",
    "                if current_step % (steps_per_eval * evals_per_validate) == 0:\n",
    "                    val_decoder_inputs = evaluate_model(model, sess, val_encoder_inputs, MAX_CHARS_PER_WORD)\n",
    "                    text_decoded = totext(val_decoder_inputs)\n",
    "                    print(\"> [%s]\" % text_encoded)\n",
    "                    print(\"< [%s]\" % text_decoded)\n",
    "                \n",
    "                sys.stdout.flush()\n",
    "    return step_losses\n"
   ]
  },
  {
   "cell_type": "code",
   "execution_count": 132,
   "metadata": {
    "collapsed": false
   },
   "outputs": [
    {
     "name": "stdout",
     "output_type": "stream",
     "text": [
      "Creating 1 layers of 128 units.\n",
      "Created model with fresh parameters.\n",
      "step 10 learning rate 0.5000 perplexity 24.71\n",
      "step 20 learning rate 0.5000 perplexity 20.67\n",
      "step 30 learning rate 0.5000 perplexity 19.06\n",
      "step 40 learning rate 0.5000 perplexity 17.99\n",
      "step 50 learning rate 0.5000 perplexity 16.62\n",
      "step 60 learning rate 0.5000 perplexity 13.40\n",
      "step 70 learning rate 0.5000 perplexity 11.74\n",
      "step 80 learning rate 0.5000 perplexity 10.14\n",
      "step 90 learning rate 0.5000 perplexity 8.34\n",
      "step 100 learning rate 0.5000 perplexity 8.30\n",
      "> [the quick brown fox jumps over the lazy dog between you and me but not her]\n",
      "< [eeettt ccccccc nnnnnnnnnn foo sssssss rrrro eeettt yyyyyy ggggg eeeeeeee uooooo dddnn eeeemm tttttt tttttn rrre]\n",
      "step 110 learning rate 0.5000 perplexity 7.13\n",
      "step 120 learning rate 0.5000 perplexity 6.74\n",
      "step 130 learning rate 0.5000 perplexity 6.47\n",
      "step 140 learning rate 0.5000 perplexity 5.22\n",
      "step 150 learning rate 0.5000 perplexity 4.71\n",
      "step 160 learning rate 0.5000 perplexity 5.48\n",
      "step 170 learning rate 0.5000 perplexity 4.71\n",
      "step 180 learning rate 0.5000 perplexity 4.91\n",
      "step 190 learning rate 0.5000 perplexity 4.65\n",
      "step 200 learning rate 0.5000 perplexity 4.67\n",
      "> [the quick brown fox jumps over the lazy dog between you and me but not her]\n",
      "< [eh kkuuq nwrr xo smuj reo eh yya gdo eeeee uoo dd e tub tnn re]\n",
      "step 210 learning rate 0.5000 perplexity 3.93\n",
      "step 220 learning rate 0.5000 perplexity 4.06\n",
      "step 230 learning rate 0.5000 perplexity 3.75\n",
      "step 240 learning rate 0.5000 perplexity 3.28\n",
      "step 250 learning rate 0.5000 perplexity 3.51\n",
      "step 260 learning rate 0.5000 perplexity 3.79\n",
      "step 270 learning rate 0.4500 perplexity 3.02\n",
      "step 280 learning rate 0.4500 perplexity 3.09\n",
      "step 290 learning rate 0.4500 perplexity 3.16\n",
      "step 300 learning rate 0.4500 perplexity 2.52\n",
      "> [the quick brown fox jumps over the lazy dog between you and me but not her]\n",
      "< [et kcuqq norr xff smmjj rrvo et yall gdd eeeeeeb uyy dna em tub tnn reh]\n",
      "step 310 learning rate 0.4500 perplexity 2.85\n",
      "step 320 learning rate 0.4500 perplexity 2.89\n",
      "step 330 learning rate 0.4500 perplexity 2.89\n",
      "step 340 learning rate 0.4050 perplexity 2.27\n",
      "step 350 learning rate 0.4050 perplexity 2.10\n",
      "step 360 learning rate 0.4050 perplexity 2.64\n",
      "step 370 learning rate 0.4050 perplexity 2.18\n",
      "step 380 learning rate 0.4050 perplexity 2.22\n",
      "step 390 learning rate 0.4050 perplexity 1.90\n",
      "step 400 learning rate 0.4050 perplexity 2.38\n",
      "> [the quick brown fox jumps over the lazy dog between you and me but not her]\n",
      "< [eht kciuq nworb xof spmuj reoo eht yzal god eeewteb uoy dna em tub ton reh]\n",
      "step 410 learning rate 0.3645 perplexity 1.68\n",
      "step 420 learning rate 0.3645 perplexity 1.48\n",
      "step 430 learning rate 0.3645 perplexity 1.92\n",
      "step 440 learning rate 0.3645 perplexity 1.60\n",
      "step 450 learning rate 0.3645 perplexity 2.05\n",
      "step 460 learning rate 0.3280 perplexity 1.33\n",
      "step 470 learning rate 0.3280 perplexity 1.82\n",
      "step 480 learning rate 0.3280 perplexity 1.37\n",
      "step 490 learning rate 0.3280 perplexity 1.36\n",
      "step 500 learning rate 0.3280 perplexity 1.38\n",
      "> [the quick brown fox jumps over the lazy dog between you and me but not her]\n",
      "< [eht kciuq nworb xof spmuj revo eht yzal god eeewteb uoy dna em tub ton reh]\n"
     ]
    }
   ],
   "source": [
    "from tensorflow.python.framework import ops\n",
    "ops.reset_default_graph()\n",
    "\n",
    "all_losses = train()\n"
   ]
  },
  {
   "cell_type": "code",
   "execution_count": 133,
   "metadata": {
    "collapsed": false
   },
   "outputs": [
    {
     "data": {
      "image/png": "[encoded data removed]",
      "text/plain": [
       "<matplotlib.figure.Figure at 0x1384b6278>"
      ]
     },
     "metadata": {},
     "output_type": "display_data"
    }
   ],
   "source": [
    "# show chart of losses\n",
    "\n",
    "plt.figure(num=1,figsize=(12,6))\n",
    "plt.plot(all_losses)\n",
    "plt.xlabel(\"Steps\")\n",
    "plt.ylabel(\"Loss\")\n",
    "plt.title(\"Learning progress\")\n",
    "plt.show()\n"
   ]
  },
  {
   "cell_type": "code",
   "execution_count": 16,
   "metadata": {
    "collapsed": false
   },
   "outputs": [
    {
     "name": "stdout",
     "output_type": "stream",
     "text": [
      "Self-test for neural translation model.\n"
     ]
    }
   ],
   "source": [
    "from tensorflow.python.framework import ops\n",
    "ops.reset_default_graph()\n",
    "\n",
    "def self_test():\n",
    "    \"\"\"Test the translation model.\"\"\"\n",
    "    \n",
    "    with tf.Session() as sess:\n",
    "        print(\"Self-test for neural translation model.\")\n",
    "        # Create model with vocabularies of 10, 2 small buckets, 2 layers of 32.\n",
    "        model = seq2seq_model.Seq2SeqModel(10, 10, [(3, 3), (6, 6)], 32, 2,\n",
    "                                       5.0, 32, 0.3, 0.99, num_samples=8)\n",
    "        sess.run(tf.initialize_all_variables())\n",
    "\n",
    "        # Fake data set for both the (3, 3) and (6, 6) bucket.\n",
    "        data_set = ([([1, 1], [2, 2]), ([3, 3], [4]), ([5], [6])],\n",
    "                    [([1, 1, 1, 1, 1], [2, 2, 2, 2, 2]), ([3, 3, 3], [5, 6])])\n",
    "        for _ in xrange(5):  # Train the fake model for 5 steps.\n",
    "            bucket_id = random.choice([0, 1])\n",
    "            encoder_inputs, decoder_inputs, target_weights = model.get_batch(data_set, bucket_id)\n",
    "            model.step(sess, encoder_inputs, decoder_inputs, target_weights, bucket_id, False)\n",
    "\n",
    "self_test()"
   ]
  }
 ],
 "metadata": {
  "kernelspec": {
   "display_name": "Python 3",
   "language": "python",
   "name": "python3"
  },
  "language_info": {
   "codemirror_mode": {
    "name": "ipython",
    "version": 3
   },
   "file_extension": ".py",
   "mimetype": "text/x-python",
   "name": "python",
   "nbconvert_exporter": "python",
   "pygments_lexer": "ipython3",
   "version": "3.5.1"
  }
 },
 "nbformat": 4,
 "nbformat_minor": 0
}
