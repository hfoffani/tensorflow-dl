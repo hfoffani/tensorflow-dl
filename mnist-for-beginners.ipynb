{
 "cells": [
  {
   "cell_type": "markdown",
   "metadata": {},
   "source": [
    "Red neuronal básica\n",
    "-------------------\n",
    "\n",
    "Ver https://www.tensorflow.org/versions/r0.7/tutorials/mnist/beginners/index.html\n",
    "o también http://www.jorditorres.org/libro-hello-world-en-tensorflow/#cap4\n",
    "\n",
    "Los conjuntos de datos están en un directorio local."
   ]
  },
  {
   "cell_type": "code",
   "execution_count": 2,
   "metadata": {
    "collapsed": false
   },
   "outputs": [
    {
     "name": "stdout",
     "output_type": "stream",
     "text": [
      "Extracting MNIST_data/train-images-idx3-ubyte.gz\n",
      "Extracting MNIST_data/train-labels-idx1-ubyte.gz\n",
      "Extracting MNIST_data/t10k-images-idx3-ubyte.gz\n",
      "Extracting MNIST_data/t10k-labels-idx1-ubyte.gz\n"
     ]
    }
   ],
   "source": [
    "import tensorflow as tf\n",
    "\n",
    "from tensorflow.examples.tutorials.mnist import input_data\n",
    "mnist = input_data.read_data_sets(\"MNIST_data/\", one_hot=True)"
   ]
  },
  {
   "cell_type": "markdown",
   "metadata": {},
   "source": [
    "El conjunto de entrenamiento contiene 55.000 imagenes en un vector unidimiensional. (28x28=784). matriz o tensor de 55.000x784 (es un numpy array, no un tensor de TF).\n",
    "\n",
    "Las etiquetas están en one-hot encoding. matriz o tensor de 55.000x10 (es un numpy array, no un tensor de TF)."
   ]
  },
  {
   "cell_type": "code",
   "execution_count": 11,
   "metadata": {
    "collapsed": false
   },
   "outputs": [
    {
     "name": "stdout",
     "output_type": "stream",
     "text": [
      "(55000, 784)\n",
      "(55000, 10)\n"
     ]
    }
   ],
   "source": [
    "print(mnist.train.images.shape)\n",
    "print(mnist.train.labels.shape)"
   ]
  },
  {
   "cell_type": "markdown",
   "metadata": {},
   "source": [
    "**¿Cuál es la arquitectura de esta red?**\n",
    "\n",
    "un input layer 28x28 pixels -> 784 units.\n",
    "\n",
    "un hidden layer de 10 units + 1 bias.\n",
    "\n",
    "un output layer de 10 units (clases)."
   ]
  },
  {
   "cell_type": "code",
   "execution_count": 16,
   "metadata": {
    "collapsed": false
   },
   "outputs": [],
   "source": [
    "# placeholders permiten poner datos dentro del modelo.\n",
    "# x son las observaciones.\n",
    "x = tf.placeholder(tf.float32, [None, 784])\n",
    "# y_ las clases para cada observacion.\n",
    "y_ = tf.placeholder(tf.float32, [None, 10])\n",
    "\n",
    "# variables dentro del modelo. lo que vamos a aprender.\n",
    "W = tf.Variable(tf.zeros([784, 10]))\n",
    "b = tf.Variable(tf.zeros([10]))\n",
    "\n",
    "# modelo (softmax de Wx+b)\n",
    "# x es input layer\n",
    "# hidden layer Wx+b\n",
    "hidden = tf.matmul(x, W) + b\n",
    "# softmax es output layer.\n",
    "y = tf.nn.softmax(hidden)\n",
    "\n",
    "# función de loss. error de entropía cruzada.\n",
    "cross_entropy = -tf.reduce_sum(y_*tf.log(y))\n",
    "\n",
    "# entrenamiento.\n",
    "# TF obtiene el gradiente automaticamente.\n",
    "train_step = tf.train.GradientDescentOptimizer(0.01).minimize(cross_entropy)\n",
    "\n",
    "# predicción.\n",
    "# tf.argmax: retorna el índice de la entrada más alta en un tensor a lo largo de un eje\n",
    "correct_prediction = tf.equal(tf.argmax(y,1), tf.argmax(y_,1))\n",
    "# correct_prediction es bool asi que lo convertimos en float.\n",
    "accuracy = tf.reduce_mean(tf.cast(correct_prediction, tf.float32))\n"
   ]
  },
  {
   "cell_type": "code",
   "execution_count": 18,
   "metadata": {
    "collapsed": false
   },
   "outputs": [
    {
     "name": "stdout",
     "output_type": "stream",
     "text": [
      "0.9196\n"
     ]
    }
   ],
   "source": [
    "# EJECUCION.\n",
    "\n",
    "init = tf.initialize_all_variables()\n",
    "sess = tf.Session()\n",
    "with sess:\n",
    "    sess.run(init)\n",
    "    \n",
    "    for i in range(1000):\n",
    "        batch_xs, batch_ys = mnist.train.next_batch(100)\n",
    "        sess.run(train_step, feed_dict={x: batch_xs, y_: batch_ys})\n",
    "\n",
    "    print(sess.run(accuracy, feed_dict={x: mnist.test.images, y_: mnist.test.labels}))\n"
   ]
  },
  {
   "cell_type": "code",
   "execution_count": null,
   "metadata": {
    "collapsed": true
   },
   "outputs": [],
   "source": []
  }
 ],
 "metadata": {
  "kernelspec": {
   "display_name": "Python 3",
   "language": "python",
   "name": "python3"
  },
  "language_info": {
   "codemirror_mode": {
    "name": "ipython",
    "version": 3
   },
   "file_extension": ".py",
   "mimetype": "text/x-python",
   "name": "python",
   "nbconvert_exporter": "python",
   "pygments_lexer": "ipython3",
   "version": "3.5.1"
  }
 },
 "nbformat": 4,
 "nbformat_minor": 0
}
