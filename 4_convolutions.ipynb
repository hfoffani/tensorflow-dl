{
 "cells": [
  {
   "cell_type": "markdown",
   "metadata": {
    "colab_type": "text",
    "id": "4embtkV0pNxM"
   },
   "source": [
    "Deep Learning\n",
    "=============\n",
    "\n",
    "Assignment 4\n",
    "------------\n",
    "\n",
    "Previously in `2_fullyconnected.ipynb` and `3_regularization.ipynb`, we trained fully connected networks to classify [notMNIST](http://yaroslavvb.blogspot.com/2011/09/notmnist-dataset.html) characters.\n",
    "\n",
    "The goal of this assignment is make the neural network convolutional."
   ]
  },
  {
   "cell_type": "code",
   "execution_count": 1,
   "metadata": {
    "cellView": "both",
    "colab": {
     "autoexec": {
      "startup": false,
      "wait_interval": 0
     }
    },
    "colab_type": "code",
    "collapsed": true,
    "id": "tm2CQN_Cpwj0"
   },
   "outputs": [],
   "source": [
    "# These are all the modules we'll be using later. Make sure you can import them\n",
    "# before proceeding further.\n",
    "import numpy as np\n",
    "import tensorflow as tf\n",
    "from six.moves import cPickle as pickle\n",
    "from six.moves import range"
   ]
  },
  {
   "cell_type": "code",
   "execution_count": 2,
   "metadata": {
    "cellView": "both",
    "colab": {
     "autoexec": {
      "startup": false,
      "wait_interval": 0
     },
     "output_extras": [
      {
       "item_id": 1
      }
     ]
    },
    "colab_type": "code",
    "collapsed": false,
    "executionInfo": {
     "elapsed": 11948,
     "status": "ok",
     "timestamp": 1446658914837,
     "user": {
      "color": "",
      "displayName": "",
      "isAnonymous": false,
      "isMe": true,
      "permissionId": "",
      "photoUrl": "",
      "sessionId": "0",
      "userId": ""
     },
     "user_tz": 480
    },
    "id": "y3-cj1bpmuxc",
    "outputId": "016b1a51-0290-4b08-efdb-8c95ffc3cd01"
   },
   "outputs": [
    {
     "name": "stdout",
     "output_type": "stream",
     "text": [
      "Training set (200000, 28, 28) (200000,)\n",
      "Validation set (10000, 28, 28) (10000,)\n",
      "Test set (18724, 28, 28) (18724,)\n"
     ]
    }
   ],
   "source": [
    "pickle_file = 'notMNIST.pickle'\n",
    "\n",
    "with open(pickle_file, 'rb') as f:\n",
    "    save = pickle.load(f)\n",
    "    train_dataset = save['train_dataset']\n",
    "    train_labels = save['train_labels']\n",
    "    valid_dataset = save['valid_dataset']\n",
    "    valid_labels = save['valid_labels']\n",
    "    test_dataset = save['test_dataset']\n",
    "    test_labels = save['test_labels']\n",
    "    del save  # hint to help gc free up memory\n",
    "    print('Training set', train_dataset.shape, train_labels.shape)\n",
    "    print('Validation set', valid_dataset.shape, valid_labels.shape)\n",
    "    print('Test set', test_dataset.shape, test_labels.shape)"
   ]
  },
  {
   "cell_type": "markdown",
   "metadata": {
    "colab_type": "text",
    "id": "L7aHrm6nGDMB"
   },
   "source": [
    "Reformat into a TensorFlow-friendly shape:\n",
    "- convolutions need the image data formatted as a cube (width by height by #channels)\n",
    "- labels as float 1-hot encodings."
   ]
  },
  {
   "cell_type": "code",
   "execution_count": 3,
   "metadata": {
    "cellView": "both",
    "colab": {
     "autoexec": {
      "startup": false,
      "wait_interval": 0
     },
     "output_extras": [
      {
       "item_id": 1
      }
     ]
    },
    "colab_type": "code",
    "collapsed": false,
    "executionInfo": {
     "elapsed": 11952,
     "status": "ok",
     "timestamp": 1446658914857,
     "user": {
      "color": "",
      "displayName": "",
      "isAnonymous": false,
      "isMe": true,
      "permissionId": "",
      "photoUrl": "",
      "sessionId": "0",
      "userId": ""
     },
     "user_tz": 480
    },
    "id": "IRSyYiIIGIzS",
    "outputId": "650a208c-8359-4852-f4f5-8bf10e80ef6c"
   },
   "outputs": [
    {
     "name": "stdout",
     "output_type": "stream",
     "text": [
      "Training set (200000, 28, 28, 1) (200000, 10)\n",
      "Validation set (10000, 28, 28, 1) (10000, 10)\n",
      "Test set (18724, 28, 28, 1) (18724, 10)\n"
     ]
    }
   ],
   "source": [
    "image_size = 28\n",
    "num_labels = 10\n",
    "num_channels = 1 # grayscale\n",
    "\n",
    "def reformat(dataset, labels):\n",
    "    dataset = dataset.reshape(\n",
    "        (-1, image_size, image_size, num_channels)).astype(np.float32)\n",
    "    labels = (np.arange(num_labels) == labels[:,None]).astype(np.float32)\n",
    "    return dataset, labels\n",
    "\n",
    "train_dataset, train_labels = reformat(train_dataset, train_labels)\n",
    "valid_dataset, valid_labels = reformat(valid_dataset, valid_labels)\n",
    "test_dataset, test_labels = reformat(test_dataset, test_labels)\n",
    "print('Training set', train_dataset.shape, train_labels.shape)\n",
    "print('Validation set', valid_dataset.shape, valid_labels.shape)\n",
    "print('Test set', test_dataset.shape, test_labels.shape)"
   ]
  },
  {
   "cell_type": "code",
   "execution_count": 4,
   "metadata": {
    "cellView": "both",
    "colab": {
     "autoexec": {
      "startup": false,
      "wait_interval": 0
     }
    },
    "colab_type": "code",
    "collapsed": true,
    "id": "AgQDIREv02p1"
   },
   "outputs": [],
   "source": [
    "def accuracy(predictions, labels):\n",
    "    return (100.0 * np.sum(np.argmax(predictions, 1) == np.argmax(labels, 1))\n",
    "            / predictions.shape[0])"
   ]
  },
  {
   "cell_type": "markdown",
   "metadata": {
    "colab_type": "text",
    "id": "5rhgjmROXu2O"
   },
   "source": [
    "Let's build a small network with two convolutional layers, followed by one fully connected layer. Convolutional networks are more expensive computationally, so we'll limit its depth and number of fully connected nodes."
   ]
  },
  {
   "cell_type": "code",
   "execution_count": 8,
   "metadata": {
    "cellView": "both",
    "colab": {
     "autoexec": {
      "startup": false,
      "wait_interval": 0
     }
    },
    "colab_type": "code",
    "collapsed": false,
    "id": "IZYv70SvvOan"
   },
   "outputs": [],
   "source": [
    "batch_size = 16\n",
    "patch_size = 5\n",
    "depth = 16\n",
    "num_hidden = 64\n",
    "\n",
    "graph = tf.Graph()\n",
    "\n",
    "with graph.as_default():\n",
    "\n",
    "    # Input data.\n",
    "    tf_train_dataset = tf.placeholder(\n",
    "        tf.float32, shape=(batch_size, image_size, image_size, num_channels))\n",
    "    tf_train_labels = tf.placeholder(tf.float32, shape=(batch_size, num_labels))\n",
    "    tf_valid_dataset = tf.constant(valid_dataset)\n",
    "    tf_test_dataset = tf.constant(test_dataset)\n",
    "  \n",
    "    # Variables.\n",
    "    layer1_weights = tf.Variable(tf.truncated_normal(\n",
    "        [patch_size, patch_size, num_channels, depth], stddev=0.1))\n",
    "    layer1_biases = tf.Variable(tf.zeros([depth]))\n",
    "    layer2_weights = tf.Variable(tf.truncated_normal(\n",
    "        [patch_size, patch_size, depth, depth], stddev=0.1))\n",
    "    layer2_biases = tf.Variable(tf.constant(1.0, shape=[depth]))\n",
    "    layer3_weights = tf.Variable(tf.truncated_normal(\n",
    "        [image_size // 4 * image_size // 4 * depth, num_hidden], stddev=0.1))\n",
    "    layer3_biases = tf.Variable(tf.constant(1.0, shape=[num_hidden]))\n",
    "    layer4_weights = tf.Variable(tf.truncated_normal(\n",
    "        [num_hidden, num_labels], stddev=0.1))\n",
    "    layer4_biases = tf.Variable(tf.constant(1.0, shape=[num_labels]))\n",
    "  \n",
    "    # Model.\n",
    "    def model(data):\n",
    "        conv = tf.nn.conv2d(data, layer1_weights, [1, 2, 2, 1], padding='SAME')\n",
    "        hidden = tf.nn.relu(conv + layer1_biases)\n",
    "        conv = tf.nn.conv2d(hidden, layer2_weights, [1, 2, 2, 1], padding='SAME')\n",
    "        hidden = tf.nn.relu(conv + layer2_biases)\n",
    "        shape = hidden.get_shape().as_list()\n",
    "        reshape = tf.reshape(hidden, [shape[0], shape[1] * shape[2] * shape[3]])\n",
    "        hidden = tf.nn.relu(tf.matmul(reshape, layer3_weights) + layer3_biases)\n",
    "        return tf.matmul(hidden, layer4_weights) + layer4_biases\n",
    "  \n",
    "    # Training computation.\n",
    "    logits = model(tf_train_dataset)\n",
    "    loss = tf.reduce_mean(\n",
    "        tf.nn.softmax_cross_entropy_with_logits(logits, tf_train_labels))\n",
    "    \n",
    "    # Optimizer.\n",
    "    optimizer = tf.train.GradientDescentOptimizer(0.05).minimize(loss)\n",
    "  \n",
    "    # Predictions for the training, validation, and test data.\n",
    "    train_prediction = tf.nn.softmax(logits)\n",
    "    valid_prediction = tf.nn.softmax(model(tf_valid_dataset))\n",
    "    test_prediction = tf.nn.softmax(model(tf_test_dataset))"
   ]
  },
  {
   "cell_type": "code",
   "execution_count": 11,
   "metadata": {
    "cellView": "both",
    "colab": {
     "autoexec": {
      "startup": false,
      "wait_interval": 0
     },
     "output_extras": [
      {
       "item_id": 37
      }
     ]
    },
    "colab_type": "code",
    "collapsed": false,
    "executionInfo": {
     "elapsed": 63292,
     "status": "ok",
     "timestamp": 1446658966251,
     "user": {
      "color": "",
      "displayName": "",
      "isAnonymous": false,
      "isMe": true,
      "permissionId": "",
      "photoUrl": "",
      "sessionId": "0",
      "userId": ""
     },
     "user_tz": 480
    },
    "id": "noKFb2UovVFR",
    "outputId": "28941338-2ef9-4088-8bd1-44295661e628"
   },
   "outputs": [
    {
     "name": "stdout",
     "output_type": "stream",
     "text": [
      "Initialized\n",
      "Step 0 - Loss 2.534234 - Minibatch 18.8% - Validation 11.1%\n",
      "Step 50 - Loss 1.474175 - Minibatch 50.0% - Validation 50.1%\n",
      "Step 100 - Loss 0.775141 - Minibatch 81.2% - Validation 73.2%\n",
      "Step 150 - Loss 0.863082 - Minibatch 68.8% - Validation 74.9%\n",
      "Step 200 - Loss 1.171659 - Minibatch 75.0% - Validation 78.3%\n",
      "Step 250 - Loss 0.956151 - Minibatch 75.0% - Validation 76.8%\n",
      "Step 300 - Loss 0.832626 - Minibatch 68.8% - Validation 78.8%\n",
      "Step 350 - Loss 1.001116 - Minibatch 75.0% - Validation 79.2%\n",
      "Step 400 - Loss 0.715934 - Minibatch 87.5% - Validation 81.1%\n",
      "Step 450 - Loss 0.728667 - Minibatch 75.0% - Validation 76.1%\n",
      "Step 500 - Loss 0.778035 - Minibatch 75.0% - Validation 81.1%\n",
      "Step 550 - Loss 0.738171 - Minibatch 75.0% - Validation 81.5%\n",
      "Step 600 - Loss 1.016576 - Minibatch 62.5% - Validation 80.7%\n",
      "Step 650 - Loss 0.951612 - Minibatch 68.8% - Validation 82.3%\n",
      "Step 700 - Loss 0.267146 - Minibatch 87.5% - Validation 81.4%\n",
      "Step 750 - Loss 0.629344 - Minibatch 81.2% - Validation 82.0%\n",
      "Step 800 - Loss 0.742801 - Minibatch 87.5% - Validation 82.7%\n",
      "Step 850 - Loss 0.516399 - Minibatch 75.0% - Validation 82.1%\n",
      "Step 900 - Loss 0.376723 - Minibatch 87.5% - Validation 82.4%\n",
      "Step 950 - Loss 0.414260 - Minibatch 87.5% - Validation 82.0%\n",
      "Step 1000 - Loss 0.734337 - Minibatch 81.2% - Validation 83.2%\n",
      "Test accuracy: 89.8%\n"
     ]
    }
   ],
   "source": [
    "num_steps = 1001\n",
    "\n",
    "with tf.Session(graph=graph) as session:\n",
    "    tf.initialize_all_variables().run()\n",
    "    print('Initialized')\n",
    "    for step in range(num_steps):\n",
    "        offset = (step * batch_size) % (train_labels.shape[0] - batch_size)\n",
    "        batch_data = train_dataset[offset:(offset + batch_size), :, :, :]\n",
    "        batch_labels = train_labels[offset:(offset + batch_size), :]\n",
    "        feed_dict = {tf_train_dataset : batch_data, tf_train_labels : batch_labels}\n",
    "        _, l, predictions = session.run(\n",
    "            [optimizer, loss, train_prediction], feed_dict=feed_dict)\n",
    "        if (step % 50 == 0):\n",
    "            print('Step %d - Loss %f - Minibatch %.1f%% - Validation %.1f%%' %\n",
    "                  (step, l, accuracy(predictions, batch_labels),accuracy(\n",
    "                    valid_prediction.eval(), valid_labels)))\n",
    "    print('Test accuracy: %.1f%%' % accuracy(test_prediction.eval(), test_labels))"
   ]
  },
  {
   "cell_type": "markdown",
   "metadata": {
    "colab_type": "text",
    "id": "KedKkn4EutIK"
   },
   "source": [
    "---\n",
    "Problem 1\n",
    "---------\n",
    "\n",
    "The convolutional model above uses convolutions with stride 2 to reduce the dimensionality. Replace the strides by a max pooling operation (`nn.max_pool()`) of stride 2 and kernel size 2.\n",
    "\n",
    "---"
   ]
  },
  {
   "cell_type": "code",
   "execution_count": 12,
   "metadata": {
    "collapsed": true
   },
   "outputs": [],
   "source": [
    "from tensorflow.python.framework import ops\n",
    "ops.reset_default_graph()\n",
    "\n",
    "batch_size = 16\n",
    "patch_size = 5\n",
    "depth = 16\n",
    "num_hidden = 64\n",
    "\n",
    "graph = tf.Graph()\n",
    "\n",
    "with graph.as_default():\n",
    "\n",
    "    # Input data.\n",
    "    tf_train_dataset = tf.placeholder(\n",
    "        tf.float32, shape=(batch_size, image_size, image_size, num_channels))\n",
    "    tf_train_labels = tf.placeholder(tf.float32, shape=(batch_size, num_labels))\n",
    "    tf_valid_dataset = tf.constant(valid_dataset)\n",
    "    tf_test_dataset = tf.constant(test_dataset)\n",
    "  \n",
    "    # Variables.\n",
    "    layer1_weights = tf.Variable(tf.truncated_normal(\n",
    "        [patch_size, patch_size, num_channels, depth], stddev=0.1))\n",
    "    layer1_biases = tf.Variable(tf.zeros([depth]))\n",
    "    layer2_weights = tf.Variable(tf.truncated_normal(\n",
    "        [patch_size, patch_size, depth, depth], stddev=0.1))\n",
    "    layer2_biases = tf.Variable(tf.constant(1.0, shape=[depth]))\n",
    "    layer3_weights = tf.Variable(tf.truncated_normal(\n",
    "        [image_size // 4 * image_size // 4 * depth, num_hidden], stddev=0.1))\n",
    "    layer3_biases = tf.Variable(tf.constant(1.0, shape=[num_hidden]))\n",
    "    layer4_weights = tf.Variable(tf.truncated_normal(\n",
    "        [num_hidden, num_labels], stddev=0.1))\n",
    "    layer4_biases = tf.Variable(tf.constant(1.0, shape=[num_labels]))\n",
    "  \n",
    "    # Model.\n",
    "    def model(data):\n",
    "        # layer 1 convo. max_pool 2x2\n",
    "        conv = tf.nn.conv2d(data, layer1_weights, [1, 1, 1, 1], padding='SAME')\n",
    "        pool = tf.nn.max_pool(conv, ksize=[1, 2, 2, 1], strides=[1, 2, 2, 1], padding='SAME')\n",
    "        hidden = tf.nn.relu(pool + layer1_biases)\n",
    "        # layer 2 convo. max_pool 2x2\n",
    "        conv = tf.nn.conv2d(hidden, layer2_weights, [1, 1, 1, 1], padding='SAME')\n",
    "        pool = tf.nn.max_pool(conv, ksize=[1, 2, 2, 1], strides=[1, 2, 2, 1], padding='SAME')\n",
    "        hidden = tf.nn.relu(pool + layer2_biases)\n",
    "        # layer 3 fully connected.\n",
    "        shape = hidden.get_shape().as_list()\n",
    "        reshape = tf.reshape(hidden, [shape[0], shape[1] * shape[2] * shape[3]])\n",
    "        hidden = tf.nn.relu(tf.matmul(reshape, layer3_weights) + layer3_biases)\n",
    "        return tf.matmul(hidden, layer4_weights) + layer4_biases\n",
    "  \n",
    "    # Training computation.\n",
    "    logits = model(tf_train_dataset)\n",
    "    loss = tf.reduce_mean(\n",
    "        tf.nn.softmax_cross_entropy_with_logits(logits, tf_train_labels))\n",
    "    \n",
    "    # Optimizer.\n",
    "    optimizer = tf.train.GradientDescentOptimizer(0.05).minimize(loss)\n",
    "  \n",
    "    # Predictions for the training, validation, and test data.\n",
    "    train_prediction = tf.nn.softmax(logits)\n",
    "    valid_prediction = tf.nn.softmax(model(tf_valid_dataset))\n",
    "    test_prediction = tf.nn.softmax(model(tf_test_dataset))"
   ]
  },
  {
   "cell_type": "code",
   "execution_count": 13,
   "metadata": {
    "collapsed": false
   },
   "outputs": [
    {
     "name": "stdout",
     "output_type": "stream",
     "text": [
      "Initialized\n",
      "Step 0 - Loss 3.287148 - Minibatch 6.2% - Validation 10.1%\n",
      "Step 50 - Loss 1.270621 - Minibatch 62.5% - Validation 42.4%\n",
      "Step 100 - Loss 0.914505 - Minibatch 81.2% - Validation 74.7%\n",
      "Step 150 - Loss 0.958688 - Minibatch 68.8% - Validation 76.1%\n",
      "Step 200 - Loss 1.037660 - Minibatch 75.0% - Validation 77.6%\n",
      "Step 250 - Loss 1.005606 - Minibatch 75.0% - Validation 77.7%\n",
      "Step 300 - Loss 0.861946 - Minibatch 68.8% - Validation 79.6%\n",
      "Step 350 - Loss 1.015530 - Minibatch 68.8% - Validation 76.6%\n",
      "Step 400 - Loss 0.662101 - Minibatch 75.0% - Validation 81.4%\n",
      "Step 450 - Loss 0.697596 - Minibatch 87.5% - Validation 79.0%\n",
      "Step 500 - Loss 0.629703 - Minibatch 81.2% - Validation 82.0%\n",
      "Step 550 - Loss 0.636615 - Minibatch 75.0% - Validation 81.8%\n",
      "Step 600 - Loss 0.932539 - Minibatch 81.2% - Validation 81.4%\n",
      "Step 650 - Loss 0.902850 - Minibatch 75.0% - Validation 82.4%\n",
      "Step 700 - Loss 0.134424 - Minibatch 100.0% - Validation 83.8%\n",
      "Step 750 - Loss 0.446201 - Minibatch 81.2% - Validation 83.8%\n",
      "Step 800 - Loss 0.808620 - Minibatch 87.5% - Validation 83.3%\n",
      "Step 850 - Loss 0.401888 - Minibatch 81.2% - Validation 83.2%\n",
      "Step 900 - Loss 0.251171 - Minibatch 87.5% - Validation 83.8%\n",
      "Step 950 - Loss 0.214575 - Minibatch 100.0% - Validation 84.1%\n",
      "Step 1000 - Loss 0.800670 - Minibatch 81.2% - Validation 84.1%\n",
      "Test accuracy: 90.5%\n"
     ]
    }
   ],
   "source": [
    "num_steps = 1001\n",
    "\n",
    "with tf.Session(graph=graph) as session:\n",
    "    tf.initialize_all_variables().run()\n",
    "    print('Initialized')\n",
    "    for step in range(num_steps):\n",
    "        offset = (step * batch_size)b % (train_labels.shape[0] - batch_size)\n",
    "        batch_data = train_dataset[offset:(offset + batch_size), :, :, :]\n",
    "        batch_labels = train_labels[offset:(offset + batch_size), :]\n",
    "        feed_dict = {tf_train_dataset : batch_data, tf_train_labels : batch_labels}\n",
    "        _, l, predictions = session.run(\n",
    "            [optimizer, loss, train_prediction], feed_dict=feed_dict)\n",
    "        if (step % 50 == 0):\n",
    "            print('Step %d - Loss %f - Minibatch %.1f%% - Validation %.1f%%' %\n",
    "                  (step, l, accuracy(predictions, batch_labels),accuracy(\n",
    "                    valid_prediction.eval(), valid_labels)))\n",
    "    print('Test accuracy: %.1f%%' % accuracy(test_prediction.eval(), test_labels))"
   ]
  },
  {
   "cell_type": "markdown",
   "metadata": {
    "colab_type": "text",
    "id": "klf21gpbAgb-"
   },
   "source": [
    "---\n",
    "Problem 2\n",
    "---------\n",
    "\n",
    "Try to get the best performance you can using a convolutional net. Look for example at the classic [LeNet5](http://yann.lecun.com/exdb/lenet/) architecture, adding Dropout, and/or adding learning rate decay.\n",
    "\n",
    "---"
   ]
  },
  {
   "cell_type": "code",
   "execution_count": 5,
   "metadata": {
    "collapsed": true
   },
   "outputs": [],
   "source": [
    "import datetime\n",
    "\n",
    "def eta(start, n, total):\n",
    "    now = datetime.datetime.now()\n",
    "    diff = now - start\n",
    "    secs = (total-n) * 1.0 * diff.seconds / (n+1) # +1 to avoid zero division.\n",
    "    ends = now + datetime.timedelta(seconds=secs)\n",
    "    return ends.strftime(\"%H:%M:%S\")\n"
   ]
  },
  {
   "cell_type": "code",
   "execution_count": 41,
   "metadata": {
    "collapsed": false
   },
   "outputs": [],
   "source": [
    "from tensorflow.python.framework import ops\n",
    "ops.reset_default_graph()\n",
    "\n",
    "batch_size = 16\n",
    "patch_size = 5\n",
    "depth = 16\n",
    "num_hidden_full_1 = 512\n",
    "num_hidden_full_2 = 64\n",
    "\n",
    "graph = tf.Graph()\n",
    "\n",
    "with graph.as_default():\n",
    "\n",
    "    # Input data.\n",
    "    tf_train_dataset = tf.placeholder(\n",
    "        tf.float32, shape=(batch_size, image_size, image_size, num_channels))\n",
    "    tf_train_labels = tf.placeholder(tf.float32, shape=(batch_size, num_labels))\n",
    "    tf_valid_dataset = tf.constant(valid_dataset)\n",
    "    tf_test_dataset = tf.constant(test_dataset)\n",
    "  \n",
    "    # Variables.\n",
    "    layer1_weights = tf.Variable(tf.truncated_normal(\n",
    "        [patch_size, patch_size, num_channels, depth], stddev=0.1))\n",
    "    layer1_biases = tf.Variable(tf.zeros([depth]))\n",
    "    layer2_weights = tf.Variable(tf.truncated_normal(\n",
    "        [patch_size, patch_size, depth, depth], stddev=0.1))\n",
    "    layer2_biases = tf.Variable(tf.constant(1.0, shape=[depth]))\n",
    "    layer3_weights = tf.Variable(tf.truncated_normal(\n",
    "        [image_size // 4 * image_size // 4 * depth, num_hidden_full_1], stddev=0.1))\n",
    "    layer3_biases = tf.Variable(tf.constant(1.0, shape=[num_hidden_full_1]))\n",
    "    keep3 = tf.placeholder(\"float\")\n",
    "    layer4_weights = tf.Variable(tf.truncated_normal(\n",
    "        [num_hidden_full_1, num_hidden_full_2], stddev=0.1))\n",
    "    layer4_biases = tf.Variable(tf.constant(1.0, shape=[num_hidden_full_2]))\n",
    "    keep4 = tf.placeholder(\"float\")\n",
    "    layer5_weights = tf.Variable(tf.truncated_normal(\n",
    "        [num_hidden_full_2, num_labels], stddev=0.1))\n",
    "    layer5_biases = tf.Variable(tf.constant(1.0, shape=[num_labels]))\n",
    "  \n",
    "    # Model. using elu not relu.\n",
    "    def model(data):\n",
    "        # layer 1 convo. max_pool 2x2.\n",
    "        conv = tf.nn.conv2d(data, layer1_weights, [1, 1, 1, 1], padding='SAME')\n",
    "        pool = tf.nn.max_pool(conv, ksize=[1, 2, 2, 1], strides=[1, 2, 2, 1], padding='SAME')\n",
    "        hidden = tf.nn.elu(pool + layer1_biases)\n",
    "        # layer 2 convo. max_pool 2x2\n",
    "        conv = tf.nn.conv2d(hidden, layer2_weights, [1, 1, 1, 1], padding='SAME')\n",
    "        pool = tf.nn.max_pool(conv, ksize=[1, 2, 2, 1], strides=[1, 2, 2, 1], padding='SAME')\n",
    "        hidden = tf.nn.elu(pool + layer2_biases)\n",
    "        # layer 3 fully connected.\n",
    "        shape = hidden.get_shape().as_list()\n",
    "        reshape = tf.reshape(hidden, [shape[0], shape[1] * shape[2] * shape[3]])\n",
    "        hidden = tf.nn.elu(tf.matmul(reshape, layer3_weights) + layer3_biases)\n",
    "        hidden = tf.nn.dropout(hidden, keep3)\n",
    "        # layer 4 fully connected\n",
    "        hidden = tf.nn.elu(tf.matmul(hidden, layer4_weights) + layer4_biases)\n",
    "        hidden = tf.nn.dropout(hidden, keep4)\n",
    "        # layer 5 output\n",
    "        output = tf.matmul(hidden, layer5_weights) + layer5_biases\n",
    "        return output\n",
    "  \n",
    "    # Training computation.\n",
    "    logits = model(tf_train_dataset)\n",
    "    loss = tf.reduce_mean(\n",
    "        tf.nn.softmax_cross_entropy_with_logits(logits, tf_train_labels))\n",
    "    \n",
    "    # Optimizer.\n",
    "    # optimizer = tf.train.GradientDescentOptimizer(0.05).minimize(loss)\n",
    "    optimizer = tf.train.AdamOptimizer(1e-4).minimize(loss)\n",
    "  \n",
    "    # Predictions for the training, validation, and test data.\n",
    "    train_prediction = tf.nn.softmax(logits)\n",
    "    valid_prediction = tf.nn.softmax(model(tf_valid_dataset))\n",
    "    test_prediction = tf.nn.softmax(model(tf_test_dataset))"
   ]
  },
  {
   "cell_type": "code",
   "execution_count": 43,
   "metadata": {
    "collapsed": false
   },
   "outputs": [
    {
     "name": "stdout",
     "output_type": "stream",
     "text": [
      "Initialized\n",
      "Step 0 - Loss 4.270369 - Minibatch 0.0% - Validation 13.9% - ETA 18:30:25\n",
      "Step 500 - Loss 1.077539 - Minibatch 62.5% - Validation 77.7% - ETA 19:43:37\n",
      "Step 1000 - Loss 0.722461 - Minibatch 87.5% - Validation 79.6% - ETA 19:39:01\n",
      "Step 1500 - Loss 0.530717 - Minibatch 81.2% - Validation 81.4% - ETA 19:39:16\n",
      "Step 2000 - Loss 1.372873 - Minibatch 50.0% - Validation 82.4% - ETA 19:38:43\n",
      "Step 2500 - Loss 1.182326 - Minibatch 62.5% - Validation 81.9% - ETA 19:38:40\n",
      "Step 3000 - Loss 0.239541 - Minibatch 100.0% - Validation 83.1% - ETA 19:37:57\n",
      "Step 3500 - Loss 0.815364 - Minibatch 75.0% - Validation 83.2% - ETA 19:38:36\n",
      "Step 4000 - Loss 0.672563 - Minibatch 81.2% - Validation 84.2% - ETA 19:39:35\n",
      "Step 4500 - Loss 0.540213 - Minibatch 93.8% - Validation 84.6% - ETA 19:40:11\n",
      "Step 5000 - Loss 0.417364 - Minibatch 87.5% - Validation 84.7% - ETA 19:40:49\n",
      "Step 5500 - Loss 0.621419 - Minibatch 75.0% - Validation 85.2% - ETA 19:40:29\n",
      "Step 6000 - Loss 0.794168 - Minibatch 62.5% - Validation 85.7% - ETA 19:40:12\n",
      "Step 6500 - Loss 0.281466 - Minibatch 93.8% - Validation 85.9% - ETA 19:39:58\n",
      "Step 7000 - Loss 0.560769 - Minibatch 75.0% - Validation 85.8% - ETA 19:40:02\n",
      "Step 7500 - Loss 0.453819 - Minibatch 75.0% - Validation 86.6% - ETA 19:39:34\n",
      "Step 8000 - Loss 0.193666 - Minibatch 93.8% - Validation 86.5% - ETA 19:39:00\n",
      "Step 8500 - Loss 0.231940 - Minibatch 87.5% - Validation 86.6% - ETA 19:38:39\n",
      "Step 9000 - Loss 0.770014 - Minibatch 81.2% - Validation 87.2% - ETA 19:38:12\n",
      "Step 9500 - Loss 0.144528 - Minibatch 93.8% - Validation 87.3% - ETA 19:37:51\n",
      "Step 10000 - Loss 0.359010 - Minibatch 81.2% - Validation 87.3% - ETA 19:37:33\n",
      "Step 10500 - Loss 0.618909 - Minibatch 81.2% - Validation 87.3% - ETA 19:37:28\n",
      "Step 11000 - Loss 0.106187 - Minibatch 93.8% - Validation 87.6% - ETA 19:37:37\n",
      "Step 11500 - Loss 0.075486 - Minibatch 100.0% - Validation 87.6% - ETA 19:37:37\n",
      "Step 12000 - Loss 0.028846 - Minibatch 100.0% - Validation 87.5% - ETA 19:38:16\n",
      "Step 12500 - Loss 0.349515 - Minibatch 93.8% - Validation 87.8% - ETA 19:38:51\n",
      "Step 13000 - Loss 0.198620 - Minibatch 93.8% - Validation 87.8% - ETA 19:38:53\n",
      "Step 13500 - Loss 0.368470 - Minibatch 87.5% - Validation 88.0% - ETA 19:38:52\n",
      "Step 14000 - Loss 0.439461 - Minibatch 81.2% - Validation 88.2% - ETA 19:38:59\n",
      "Step 14500 - Loss 0.470962 - Minibatch 87.5% - Validation 87.8% - ETA 19:38:58\n",
      "Step 15000 - Loss 0.463735 - Minibatch 81.2% - Validation 88.3% - ETA 19:38:58\n",
      "Step 15500 - Loss 0.101602 - Minibatch 100.0% - Validation 88.3% - ETA 19:38:56\n",
      "Step 16000 - Loss 0.167700 - Minibatch 93.8% - Validation 88.7% - ETA 19:38:55\n",
      "Step 16500 - Loss 0.793463 - Minibatch 68.8% - Validation 88.6% - ETA 19:38:44\n",
      "Step 17000 - Loss 0.176625 - Minibatch 100.0% - Validation 88.5% - ETA 19:38:32\n",
      "Step 17500 - Loss 0.317943 - Minibatch 87.5% - Validation 88.6% - ETA 19:38:21\n",
      "Step 18000 - Loss 0.753696 - Minibatch 81.2% - Validation 88.6% - ETA 19:38:18\n",
      "Step 18500 - Loss 0.219806 - Minibatch 93.8% - Validation 88.9% - ETA 19:38:08\n",
      "Step 19000 - Loss 0.323099 - Minibatch 87.5% - Validation 88.9% - ETA 19:37:58\n",
      "Step 19500 - Loss 0.484255 - Minibatch 87.5% - Validation 89.2% - ETA 19:37:48\n",
      "Step 20000 - Loss 0.403337 - Minibatch 87.5% - Validation 89.3% - ETA 19:37:39\n",
      "Step 20500 - Loss 0.582044 - Minibatch 81.2% - Validation 89.4% - ETA 19:37:32\n",
      "Step 21000 - Loss 0.323658 - Minibatch 87.5% - Validation 89.3% - ETA 19:37:23\n",
      "Step 21500 - Loss 0.201644 - Minibatch 87.5% - Validation 89.2% - ETA 19:37:14\n",
      "Step 22000 - Loss 0.084925 - Minibatch 100.0% - Validation 89.3% - ETA 19:37:11\n",
      "Step 22500 - Loss 0.273734 - Minibatch 87.5% - Validation 89.3% - ETA 19:37:11\n",
      "Step 23000 - Loss 0.595664 - Minibatch 87.5% - Validation 89.3% - ETA 19:37:05\n",
      "Step 23500 - Loss 0.071698 - Minibatch 100.0% - Validation 89.4% - ETA 19:36:58\n",
      "Step 24000 - Loss 0.039393 - Minibatch 100.0% - Validation 89.6% - ETA 19:36:50\n",
      "Step 24500 - Loss 0.454789 - Minibatch 87.5% - Validation 89.6% - ETA 19:36:44\n",
      "Step 25000 - Loss 0.157249 - Minibatch 93.8% - Validation 89.8% - ETA 19:36:38\n",
      "Step 25500 - Loss 0.624877 - Minibatch 81.2% - Validation 89.4% - ETA 19:36:40\n",
      "Step 26000 - Loss 0.013691 - Minibatch 100.0% - Validation 89.3% - ETA 19:36:35\n",
      "Step 26500 - Loss 0.676976 - Minibatch 81.2% - Validation 89.7% - ETA 19:36:43\n",
      "Step 27000 - Loss 0.386151 - Minibatch 81.2% - Validation 89.5% - ETA 19:36:38\n",
      "Step 27500 - Loss 0.268345 - Minibatch 93.8% - Validation 89.9% - ETA 19:36:34\n",
      "Step 28000 - Loss 0.944931 - Minibatch 87.5% - Validation 89.8% - ETA 19:36:28\n",
      "Step 28500 - Loss 0.613862 - Minibatch 81.2% - Validation 90.0% - ETA 19:36:23\n",
      "Step 29000 - Loss 0.312639 - Minibatch 87.5% - Validation 90.0% - ETA 19:36:17\n",
      "Step 29500 - Loss 0.492272 - Minibatch 75.0% - Validation 89.9% - ETA 19:36:16\n",
      "Step 30000 - Loss 0.102062 - Minibatch 93.8% - Validation 89.8% - ETA 19:36:19\n",
      "Step 30500 - Loss 0.383266 - Minibatch 87.5% - Validation 90.0% - ETA 19:36:20\n",
      "Step 31000 - Loss 0.108510 - Minibatch 93.8% - Validation 90.0% - ETA 19:36:27\n",
      "Step 31500 - Loss 0.824943 - Minibatch 75.0% - Validation 90.0% - ETA 19:36:28\n",
      "Step 32000 - Loss 0.271819 - Minibatch 100.0% - Validation 90.3% - ETA 19:36:38\n",
      "Step 32500 - Loss 0.132174 - Minibatch 100.0% - Validation 90.5% - ETA 19:36:40\n",
      "Step 33000 - Loss 0.388202 - Minibatch 81.2% - Validation 90.3% - ETA 19:36:44\n",
      "Step 33500 - Loss 0.227908 - Minibatch 93.8% - Validation 90.1% - ETA 19:36:45\n",
      "Step 34000 - Loss 0.157272 - Minibatch 100.0% - Validation 90.2% - ETA 19:36:50\n",
      "Step 34500 - Loss 0.044868 - Minibatch 100.0% - Validation 90.2% - ETA 19:36:53\n",
      "Step 35000 - Loss 0.283887 - Minibatch 93.8% - Validation 90.2% - ETA 19:36:54\n",
      "Step 35500 - Loss 0.451224 - Minibatch 81.2% - Validation 90.4% - ETA 19:36:52\n",
      "Step 36000 - Loss 0.211632 - Minibatch 93.8% - Validation 90.3% - ETA 19:36:47\n",
      "Step 36500 - Loss 0.003903 - Minibatch 100.0% - Validation 90.3% - ETA 19:36:48\n",
      "Step 37000 - Loss 0.416800 - Minibatch 87.5% - Validation 90.5% - ETA 19:36:43\n",
      "Step 37500 - Loss 0.233127 - Minibatch 93.8% - Validation 90.5% - ETA 19:36:40\n",
      "Step 38000 - Loss 0.466142 - Minibatch 81.2% - Validation 90.4% - ETA 19:36:37\n",
      "Step 38500 - Loss 0.037338 - Minibatch 100.0% - Validation 90.5% - ETA 19:36:32\n",
      "Step 39000 - Loss 0.305367 - Minibatch 87.5% - Validation 90.7% - ETA 19:36:32\n",
      "Step 39500 - Loss 0.320264 - Minibatch 93.8% - Validation 90.5% - ETA 19:36:29\n",
      "Step 40000 - Loss 0.534276 - Minibatch 81.2% - Validation 90.6% - ETA 19:36:30\n",
      "Test accuracy: 95.9%\n"
     ]
    }
   ],
   "source": [
    "num_steps = 40001\n",
    "\n",
    "with tf.Session(graph=graph) as session:\n",
    "    tf.initialize_all_variables().run()\n",
    "    start = datetime.datetime.now()\n",
    "    print('Initialized')\n",
    "    for step in range(num_steps):\n",
    "        offset = (step * batch_size) % (train_labels.shape[0] - batch_size)\n",
    "        batch_data = train_dataset[offset:(offset + batch_size), :, :, :]\n",
    "        batch_labels = train_labels[offset:(offset + batch_size), :]\n",
    "        feed_dict = {tf_train_dataset : batch_data, tf_train_labels : batch_labels,\n",
    "                    keep3:0.9, keep4:0.9}\n",
    "        _, l, predictions = session.run(\n",
    "            [optimizer, loss, train_prediction], feed_dict=feed_dict)\n",
    "        if (step % 500 == 0):\n",
    "            ends = eta(start, step, num_steps)\n",
    "            valpred = valid_prediction.eval(feed_dict={keep3:1.0, keep4:1.0})            \n",
    "            print('Step %d - Loss %f - Minibatch %.1f%% - Validation %.1f%% - ETA %s' %\n",
    "                  (step, l, accuracy(predictions, batch_labels), accuracy(valpred, valid_labels), ends))\n",
    "    print('Test accuracy: %.1f%%' %\n",
    "          accuracy(test_prediction.eval(feed_dict={keep3:1.0, keep4:1.0}), test_labels))"
   ]
  },
  {
   "cell_type": "code",
   "execution_count": 6,
   "metadata": {
    "collapsed": false
   },
   "outputs": [],
   "source": [
    "# DL with inception.\n",
    "\n",
    "from tensorflow.python.framework import ops\n",
    "ops.reset_default_graph()\n",
    "\n",
    "batch_size = 16\n",
    "patch_size = 5\n",
    "depth = 16\n",
    "num_hidden_full_1 = 512\n",
    "num_hidden_full_2 = 64\n",
    "\n",
    "graph = tf.Graph()\n",
    "\n",
    "with graph.as_default():\n",
    "\n",
    "    # Input data.\n",
    "    tf_train_dataset = tf.placeholder(\n",
    "        tf.float32, shape=(batch_size, image_size, image_size, num_channels))\n",
    "    tf_train_labels = tf.placeholder(tf.float32, shape=(batch_size, num_labels))\n",
    "    tf_valid_dataset = tf.constant(valid_dataset)\n",
    "    tf_test_dataset = tf.constant(test_dataset)\n",
    "  \n",
    "    # Variables.\n",
    "    layer1_weights = tf.Variable(tf.truncated_normal(\n",
    "        [patch_size, patch_size, num_channels, depth], stddev=0.1))\n",
    "    layer1_biases = tf.Variable(tf.zeros([depth]))\n",
    "    layer2_weights = tf.Variable(tf.truncated_normal(\n",
    "        [patch_size, patch_size, depth, depth], stddev=0.1))\n",
    "    layer2_biases = tf.Variable(tf.constant(1.0, shape=[depth]))\n",
    "    # standard conv2d:\n",
    "    # layer3_weights = tf.Variable(tf.truncated_normal(\n",
    "    #     [image_size // 4 * image_size // 4 * depth, num_hidden_full_1], stddev=0.1))\n",
    "    # inception is = [16, 28, 28, 64] reshaped (16, 50176)\n",
    "    layer3_weights = tf.Variable(tf.truncated_normal(\n",
    "        [50176, num_hidden_full_1], stddev=0.1))\n",
    "    layer3_biases = tf.Variable(tf.constant(1.0, shape=[num_hidden_full_1]))\n",
    "    keep3 = tf.placeholder(\"float\")\n",
    "    layer4_weights = tf.Variable(tf.truncated_normal(\n",
    "        [num_hidden_full_1, num_hidden_full_2], stddev=0.1))\n",
    "    layer4_biases = tf.Variable(tf.constant(1.0, shape=[num_hidden_full_2]))\n",
    "    keep4 = tf.placeholder(\"float\")\n",
    "    layer5_weights = tf.Variable(tf.truncated_normal(\n",
    "        [num_hidden_full_2, num_labels], stddev=0.1))\n",
    "    layer5_biases = tf.Variable(tf.constant(1.0, shape=[num_labels]))\n",
    "    # vars for inception\n",
    "    inception_1x1_weights = tf.Variable(tf.truncated_normal(\n",
    "        [1, 1, num_channels, depth], stddev=0.1))\n",
    "    inception_1x1_biases = tf.Variable(tf.zeros([depth]))\n",
    "    pre_inception_1x1_weights = tf.Variable(tf.truncated_normal(\n",
    "        [1, 1, num_channels, depth], stddev=0.1))\n",
    "    pre_inception_1x1_biases = tf.Variable(tf.zeros([depth]))\n",
    "    inception_1x1_pool_weights = tf.Variable(tf.truncated_normal(\n",
    "        [1, 1, num_channels, depth], stddev=0.1))\n",
    "    inception_1x1_pool_biases = tf.Variable(tf.zeros([depth]))\n",
    "    inception_3x3_weights = tf.Variable(tf.truncated_normal(\n",
    "        [3, 3, depth, depth], stddev=0.1))\n",
    "    inception_3x3_biases = tf.Variable(tf.zeros([depth]))\n",
    "    inception_5x5_weights = tf.Variable(tf.truncated_normal(\n",
    "        [5, 5, depth, depth], stddev=0.1))\n",
    "    inception_5x5_biases = tf.Variable(tf.zeros([depth]))\n",
    "\n",
    "    def inception_layer(data):\n",
    "        # Inception 1x1\n",
    "        conv_1x1 = tf.nn.conv2d(data, inception_1x1_weights, [1, 1, 1, 1], padding='SAME')\n",
    "        conv_1x1 = tf.nn.relu(conv_1x1 + inception_1x1_biases)\n",
    "        ## 1x1 - before the bigger patches\n",
    "        conv_pre = tf.nn.conv2d(data, pre_inception_1x1_weights, [1, 1, 1, 1], padding='SAME')\n",
    "        conv_pre = tf.nn.relu(conv_pre + pre_inception_1x1_biases)\n",
    "        # Pooling 3x3\n",
    "        ## average pool followed by a 1x1\n",
    "        conv_pool = tf.nn.avg_pool(data, [1, 3, 3, 1], [1, 1, 1, 1], padding='SAME')\n",
    "        conv_pool = tf.nn.conv2d(conv_pool, inception_1x1_pool_weights, [1, 1, 1, 1], padding='SAME')\n",
    "        conv_pool = tf.nn.relu(conv_pool + inception_1x1_pool_biases)\n",
    "        # Inception 3x3\n",
    "        ## 1x1 followed by a 3x3\n",
    "        conv_3x3 = tf.nn.conv2d(conv_pre, inception_3x3_weights, [1, 1, 1, 1], padding='SAME')\n",
    "        conv_3x3 = tf.nn.relu(conv_3x3 + inception_3x3_biases)\n",
    "        # Inception 5x5\n",
    "        ## 1x1 followed by a 5x5\n",
    "        conv_5x5 = tf.nn.conv2d(conv_pre, inception_5x5_weights, [1, 1, 1, 1], padding='SAME')\n",
    "        conv_5x5 = tf.nn.relu(conv_5x5 + inception_5x5_biases)\n",
    "        inception_result = tf.concat(3, [conv_1x1, conv_3x3, conv_5x5, conv_pool])\n",
    "        return inception_result\n",
    "\n",
    "    # Model. using elu not relu.\n",
    "    def model(data):\n",
    "        # layer 1 convo. max_pool 2x2.\n",
    "        #conv = tf.nn.conv2d(data, layer1_weights, [1, 1, 1, 1], padding='SAME')\n",
    "        #pool = tf.nn.max_pool(conv, ksize=[1, 2, 2, 1], strides=[1, 2, 2, 1], padding='SAME')\n",
    "        #hidden = tf.nn.elu(pool + layer1_biases)\n",
    "        # layer 2 convo. max_pool 2x2\n",
    "        #conv = tf.nn.conv2d(hidden, layer2_weights, [1, 1, 1, 1], padding='SAME')\n",
    "        #pool = tf.nn.max_pool(conv, ksize=[1, 2, 2, 1], strides=[1, 2, 2, 1], padding='SAME')\n",
    "        #hidden = tf.nn.elu(pool + layer2_biases)\n",
    "        hidden = inception_layer(data)\n",
    "        # layer 3 fully connected.\n",
    "        shape = hidden.get_shape().as_list()\n",
    "        reshape = tf.reshape(hidden, [shape[0], shape[1] * shape[2] * shape[3]])\n",
    "        hidden = tf.nn.elu(tf.matmul(reshape, layer3_weights) + layer3_biases)\n",
    "        hidden = tf.nn.dropout(hidden, keep3)\n",
    "        # layer 4 fully connected\n",
    "        hidden = tf.nn.elu(tf.matmul(hidden, layer4_weights) + layer4_biases)\n",
    "        hidden = tf.nn.dropout(hidden, keep4)\n",
    "        # layer 5 output\n",
    "        output = tf.matmul(hidden, layer5_weights) + layer5_biases\n",
    "        return output\n",
    "  \n",
    "    # Training computation.\n",
    "    logits = model(tf_train_dataset)\n",
    "    loss = tf.reduce_mean(\n",
    "        tf.nn.softmax_cross_entropy_with_logits(logits, tf_train_labels))\n",
    "    \n",
    "    # Optimizer.\n",
    "    # optimizer = tf.train.GradientDescentOptimizer(0.05).minimize(loss)\n",
    "    optimizer = tf.train.AdamOptimizer(1e-4).minimize(loss)\n",
    "  \n",
    "    # Predictions for the training, validation, and test data.\n",
    "    train_prediction = tf.nn.softmax(logits)\n",
    "    valid_prediction = tf.nn.softmax(model(tf_valid_dataset))\n",
    "    test_prediction = tf.nn.softmax(model(tf_test_dataset))"
   ]
  },
  {
   "cell_type": "code",
   "execution_count": null,
   "metadata": {
    "collapsed": false
   },
   "outputs": [],
   "source": [
    "num_steps = 10001 # 40001 IMPOSIBLE ON MY NOTEBOOK.\n",
    "\n",
    "with tf.Session(graph=graph) as session:\n",
    "    tf.initialize_all_variables().run()\n",
    "    start = datetime.datetime.now()\n",
    "    print('Initialized')\n",
    "    for step in range(num_steps):\n",
    "        offset = (step * batch_size) % (train_labels.shape[0] - batch_size)\n",
    "        batch_data = train_dataset[offset:(offset + batch_size), :, :, :]\n",
    "        batch_labels = train_labels[offset:(offset + batch_size), :]\n",
    "        feed_dict = {tf_train_dataset : batch_data, tf_train_labels : batch_labels,\n",
    "                    keep3:0.9, keep4:0.9}\n",
    "        _, l, predictions = session.run(\n",
    "            [optimizer, loss, train_prediction], feed_dict=feed_dict)\n",
    "        if (step % 500 == 0):\n",
    "            ends = eta(start, step, num_steps)\n",
    "            valpred = valid_prediction.eval(feed_dict={keep3:1.0, keep4:1.0})            \n",
    "            print('Step %d - Loss %f - Minibatch %.1f%% - Validation %.1f%% - ETA %s' %\n",
    "                  (step, l, accuracy(predictions, batch_labels), accuracy(valpred, valid_labels), ends))\n",
    "    print('Test accuracy: %.1f%%' %\n",
    "          accuracy(test_prediction.eval(feed_dict={keep3:1.0, keep4:1.0}), test_labels))\n"
   ]
  },
  {
   "cell_type": "code",
   "execution_count": null,
   "metadata": {
    "collapsed": true
   },
   "outputs": [],
   "source": []
  }
 ],
 "metadata": {
  "colab": {
   "default_view": {},
   "name": "4_convolutions.ipynb",
   "provenance": [],
   "version": "0.3.2",
   "views": {}
  },
  "kernelspec": {
   "display_name": "Python 3",
   "language": "python",
   "name": "python3"
  },
  "language_info": {
   "codemirror_mode": {
    "name": "ipython",
    "version": 3
   },
   "file_extension": ".py",
   "mimetype": "text/x-python",
   "name": "python",
   "nbconvert_exporter": "python",
   "pygments_lexer": "ipython3",
   "version": "3.5.1"
  }
 },
 "nbformat": 4,
 "nbformat_minor": 0
}
